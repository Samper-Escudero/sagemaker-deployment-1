{
 "cells": [
  {
   "cell_type": "markdown",
   "metadata": {},
   "source": [
    "# Creating a Sentiment Analysis Web App\n",
    "## Using PyTorch and SageMaker\n",
    "\n",
    "_Deep Learning Nanodegree Program | Deployment_\n",
    "\n",
    "---\n",
    "\n",
    "Now that we have a basic understanding of how SageMaker works we will try to use it to construct a complete project from end to end. Our goal will be to have a simple web page which a user can use to enter a movie review. The web page will then send the review off to our deployed model which will predict the sentiment of the entered review.\n",
    "\n",
    "## Instructions\n",
    "\n",
    "Some template code has already been provided for you, and you will need to implement additional functionality to successfully complete this notebook. You will not need to modify the included code beyond what is requested. Sections that begin with '**TODO**' in the header indicate that you need to complete or implement some portion within them. Instructions will be provided for each section and the specifics of the implementation are marked in the code block with a `# TODO: ...` comment. Please be sure to read the instructions carefully!\n",
    "\n",
    "In addition to implementing code, there will be questions for you to answer which relate to the task and your implementation. Each section where you will answer a question is preceded by a '**Question:**' header. Carefully read each question and provide your answer below the '**Answer:**' header by editing the Markdown cell.\n",
    "\n",
    "> **Note**: Code and Markdown cells can be executed using the **Shift+Enter** keyboard shortcut. In addition, a cell can be edited by typically clicking it (double-click for Markdown cells) or by pressing **Enter** while it is highlighted.\n",
    "\n",
    "## General Outline\n",
    "\n",
    "Recall the general outline for SageMaker projects using a notebook instance.\n",
    "\n",
    "1. Download or otherwise retrieve the data.\n",
    "2. Process / Prepare the data.\n",
    "3. Upload the processed data to S3.\n",
    "4. Train a chosen model.\n",
    "5. Test the trained model (typically using a batch transform job).\n",
    "6. Deploy the trained model.\n",
    "7. Use the deployed model.\n",
    "\n",
    "For this project, you will be following the steps in the general outline with some modifications. \n",
    "\n",
    "First, you will not be testing the model in its own step. You will still be testing the model, however, you will do it by deploying your model and then using the deployed model by sending the test data to it. One of the reasons for doing this is so that you can make sure that your deployed model is working correctly before moving forward.\n",
    "\n",
    "In addition, you will deploy and use your trained model a second time. In the second iteration you will customize the way that your trained model is deployed by including some of your own code. In addition, your newly deployed model will be used in the sentiment analysis web app."
   ]
  },
  {
   "cell_type": "markdown",
   "metadata": {},
   "source": [
    "## Step 1: Downloading the data\n",
    "\n",
    "As in the XGBoost in SageMaker notebook, we will be using the [IMDb dataset](http://ai.stanford.edu/~amaas/data/sentiment/)\n",
    "\n",
    "> Maas, Andrew L., et al. [Learning Word Vectors for Sentiment Analysis](http://ai.stanford.edu/~amaas/data/sentiment/). In _Proceedings of the 49th Annual Meeting of the Association for Computational Linguistics: Human Language Technologies_. Association for Computational Linguistics, 2011."
   ]
  },
  {
   "cell_type": "code",
   "execution_count": 1,
   "metadata": {},
   "outputs": [
    {
     "name": "stdout",
     "output_type": "stream",
     "text": [
      "--2020-01-07 08:23:03--  http://ai.stanford.edu/~amaas/data/sentiment/aclImdb_v1.tar.gz\n",
      "Resolving ai.stanford.edu (ai.stanford.edu)... 171.64.68.10\n",
      "Connecting to ai.stanford.edu (ai.stanford.edu)|171.64.68.10|:80... connected.\n",
      "HTTP request sent, awaiting response... 200 OK\n",
      "Length: 84125825 (80M) [application/x-gzip]\n",
      "Saving to: ‘../data/aclImdb_v1.tar.gz’\n",
      "\n",
      "../data/aclImdb_v1. 100%[===================>]  80.23M  24.2MB/s    in 4.4s    \n",
      "\n",
      "2020-01-07 08:23:07 (18.1 MB/s) - ‘../data/aclImdb_v1.tar.gz’ saved [84125825/84125825]\n",
      "\n"
     ]
    }
   ],
   "source": [
    "%mkdir ../data\n",
    "!wget -O ../data/aclImdb_v1.tar.gz http://ai.stanford.edu/~amaas/data/sentiment/aclImdb_v1.tar.gz\n",
    "!tar -zxf ../data/aclImdb_v1.tar.gz -C ../data"
   ]
  },
  {
   "cell_type": "markdown",
   "metadata": {},
   "source": [
    "## Step 2: Preparing and Processing the data\n",
    "\n",
    "Also, as in the XGBoost notebook, we will be doing some initial data processing. The first few steps are the same as in the XGBoost example. To begin with, we will read in each of the reviews and combine them into a single input structure. Then, we will split the dataset into a training set and a testing set."
   ]
  },
  {
   "cell_type": "code",
   "execution_count": 58,
   "metadata": {},
   "outputs": [],
   "source": [
    "import os\n",
    "import glob\n",
    "\n",
    "def read_imdb_data(data_dir='../data/aclImdb'):\n",
    "    data = {}\n",
    "    labels = {}\n",
    "    \n",
    "    for data_type in ['train', 'test']:\n",
    "        data[data_type] = {}\n",
    "        labels[data_type] = {}\n",
    "        \n",
    "        for sentiment in ['pos', 'neg']:\n",
    "            data[data_type][sentiment] = []\n",
    "            labels[data_type][sentiment] = []\n",
    "            \n",
    "            path = os.path.join(data_dir, data_type, sentiment, '*.txt')\n",
    "            files = glob.glob(path)\n",
    "            \n",
    "            for f in files:\n",
    "                with open(f) as review:\n",
    "                    data[data_type][sentiment].append(review.read())\n",
    "                    # Here we represent a positive review by '1' and a negative review by '0'\n",
    "                    labels[data_type][sentiment].append(1 if sentiment == 'pos' else 0)\n",
    "                    \n",
    "            assert len(data[data_type][sentiment]) == len(labels[data_type][sentiment]), \\\n",
    "                    \"{}/{} data size does not match labels size\".format(data_type, sentiment)\n",
    "                \n",
    "    return data, labels"
   ]
  },
  {
   "cell_type": "code",
   "execution_count": 59,
   "metadata": {},
   "outputs": [
    {
     "name": "stdout",
     "output_type": "stream",
     "text": [
      "IMDB reviews: train = 12500 pos / 12500 neg, test = 12500 pos / 12500 neg\n"
     ]
    }
   ],
   "source": [
    "data, labels = read_imdb_data()\n",
    "print(\"IMDB reviews: train = {} pos / {} neg, test = {} pos / {} neg\".format(\n",
    "            len(data['train']['pos']), len(data['train']['neg']),\n",
    "            len(data['test']['pos']), len(data['test']['neg'])))"
   ]
  },
  {
   "cell_type": "markdown",
   "metadata": {},
   "source": [
    "Now that we've read the raw training and testing data from the downloaded dataset, we will combine the positive and negative reviews and shuffle the resulting records."
   ]
  },
  {
   "cell_type": "code",
   "execution_count": 60,
   "metadata": {},
   "outputs": [],
   "source": [
    "from sklearn.utils import shuffle\n",
    "\n",
    "def prepare_imdb_data(data, labels):\n",
    "    \"\"\"Prepare training and test sets from IMDb movie reviews.\"\"\"\n",
    "    \n",
    "    #Combine positive and negative reviews and labels\n",
    "    data_train = data['train']['pos'] + data['train']['neg']\n",
    "    data_test = data['test']['pos'] + data['test']['neg']\n",
    "    labels_train = labels['train']['pos'] + labels['train']['neg']\n",
    "    labels_test = labels['test']['pos'] + labels['test']['neg']\n",
    "    \n",
    "    #Shuffle reviews and corresponding labels within training and test sets\n",
    "    data_train, labels_train = shuffle(data_train, labels_train)\n",
    "    data_test, labels_test = shuffle(data_test, labels_test)\n",
    "    \n",
    "    # Return a unified training data, test data, training labels, test labets\n",
    "    return data_train, data_test, labels_train, labels_test"
   ]
  },
  {
   "cell_type": "code",
   "execution_count": 61,
   "metadata": {},
   "outputs": [
    {
     "name": "stdout",
     "output_type": "stream",
     "text": [
      "IMDb reviews (combined): train = 25000, test = 25000\n"
     ]
    }
   ],
   "source": [
    "train_X, test_X, train_y, test_y = prepare_imdb_data(data, labels)\n",
    "print(\"IMDb reviews (combined): train = {}, test = {}\".format(len(train_X), len(test_X)))"
   ]
  },
  {
   "cell_type": "markdown",
   "metadata": {},
   "source": [
    "Now that we have our training and testing sets unified and prepared, we should do a quick check and see an example of the data our model will be trained on. This is generally a good idea as it allows you to see how each of the further processing steps affects the reviews and it also ensures that the data has been loaded correctly."
   ]
  },
  {
   "cell_type": "code",
   "execution_count": 62,
   "metadata": {},
   "outputs": [
    {
     "name": "stdout",
     "output_type": "stream",
     "text": [
      "This is one strange hacked together film, you get the feeling that the bond company had to come in on this one, I'm not surprised there's no credits on it, who would want to be associated with this film. The Acting of all involved is terribly stilted and the plot jumps around all over, it all makes very little sense. As I said before it looks like the bond company had to come in because it seems like there was alot of footage that wasn't shot that needed to be, and all the music was very ill-fitting library music (cheap I guess). Very, very odd. I might actually buy a DVD of it though, if it could let me in on what the hell was going on, and what happened to this movie.\n",
      "0\n"
     ]
    }
   ],
   "source": [
    "print(train_X[100])\n",
    "print(train_y[100])"
   ]
  },
  {
   "cell_type": "markdown",
   "metadata": {},
   "source": [
    "The first step in processing the reviews is to make sure that any html tags that appear should be removed. In addition we wish to tokenize our input, that way words such as *entertained* and *entertaining* are considered the same with regard to sentiment analysis."
   ]
  },
  {
   "cell_type": "code",
   "execution_count": 63,
   "metadata": {},
   "outputs": [],
   "source": [
    "import nltk\n",
    "from nltk.corpus import stopwords\n",
    "from nltk.stem.porter import *\n",
    "\n",
    "import re\n",
    "from bs4 import BeautifulSoup\n",
    "\n",
    "def review_to_words(review):\n",
    "    nltk.download(\"stopwords\", quiet=True)\n",
    "    stemmer = PorterStemmer()\n",
    "    \n",
    "    text = BeautifulSoup(review, \"html.parser\").get_text() # Remove HTML tags\n",
    "    text = re.sub(r\"[^a-zA-Z0-9]\", \" \", text.lower()) # Convert to lower case\n",
    "    words = text.split() # Split string into words\n",
    "    words = [w for w in words if w not in stopwords.words(\"english\")] # Remove stopwords\n",
    "    words = [PorterStemmer().stem(w) for w in words] # stem\n",
    "    \n",
    "    return words"
   ]
  },
  {
   "cell_type": "markdown",
   "metadata": {},
   "source": [
    "The `review_to_words` method defined above uses `BeautifulSoup` to remove any html tags that appear and uses the `nltk` package to tokenize the reviews. As a check to ensure we know how everything is working, try applying `review_to_words` to one of the reviews in the training set."
   ]
  },
  {
   "cell_type": "code",
   "execution_count": 64,
   "metadata": {},
   "outputs": [
    {
     "data": {
      "text/plain": [
       "['one',\n",
       " 'strang',\n",
       " 'hack',\n",
       " 'togeth',\n",
       " 'film',\n",
       " 'get',\n",
       " 'feel',\n",
       " 'bond',\n",
       " 'compani',\n",
       " 'come',\n",
       " 'one',\n",
       " 'surpris',\n",
       " 'credit',\n",
       " 'would',\n",
       " 'want',\n",
       " 'associ',\n",
       " 'film',\n",
       " 'act',\n",
       " 'involv',\n",
       " 'terribl',\n",
       " 'stilt',\n",
       " 'plot',\n",
       " 'jump',\n",
       " 'around',\n",
       " 'make',\n",
       " 'littl',\n",
       " 'sens',\n",
       " 'said',\n",
       " 'look',\n",
       " 'like',\n",
       " 'bond',\n",
       " 'compani',\n",
       " 'come',\n",
       " 'seem',\n",
       " 'like',\n",
       " 'alot',\n",
       " 'footag',\n",
       " 'shot',\n",
       " 'need',\n",
       " 'music',\n",
       " 'ill',\n",
       " 'fit',\n",
       " 'librari',\n",
       " 'music',\n",
       " 'cheap',\n",
       " 'guess',\n",
       " 'odd',\n",
       " 'might',\n",
       " 'actual',\n",
       " 'buy',\n",
       " 'dvd',\n",
       " 'though',\n",
       " 'could',\n",
       " 'let',\n",
       " 'hell',\n",
       " 'go',\n",
       " 'happen',\n",
       " 'movi']"
      ]
     },
     "execution_count": 64,
     "metadata": {},
     "output_type": "execute_result"
    }
   ],
   "source": [
    "# TODO: Apply review_to_words to a review (train_X[100] or any other review)\n",
    "review_to_words(train_X[100])"
   ]
  },
  {
   "cell_type": "markdown",
   "metadata": {},
   "source": [
    "**Question:** Above we mentioned that `review_to_words` method removes html formatting and allows us to tokenize the words found in a review, for example, converting *entertained* and *entertaining* into *entertain* so that they are treated as though they are the same word. What else, if anything, does this method do to the input?"
   ]
  },
  {
   "cell_type": "markdown",
   "metadata": {},
   "source": [
    "**Answer:**\n",
    "\n",
    "The lemmatization applied by this method eases optimization and semantic relation. To this end, firstly, the method applies a starndarization of the words consisting of removing the HTML formatting, punctuation marks and converting to lower-case the whole text. Then, the resulting words are split and stemmed by using the PorterStemmer that removes the morphological affixes of the words. This stemmer is in the nltk library whose documentation can be found here: https://www.nltk.org/_modules/nltk/stem/porter.html and https://www.nltk.org/api/nltk.stem.html"
   ]
  },
  {
   "cell_type": "markdown",
   "metadata": {},
   "source": [
    "The method below applies the `review_to_words` method to each of the reviews in the training and testing datasets. In addition it caches the results. This is because performing this processing step can take a long time. This way if you are unable to complete the notebook in the current session, you can come back without needing to process the data a second time."
   ]
  },
  {
   "cell_type": "code",
   "execution_count": 65,
   "metadata": {},
   "outputs": [],
   "source": [
    "import pickle\n",
    "\n",
    "cache_dir = os.path.join(\"../cache\", \"sentiment_analysis\")  # where to store cache files\n",
    "os.makedirs(cache_dir, exist_ok=True)  # ensure cache directory exists\n",
    "\n",
    "def preprocess_data(data_train, data_test, labels_train, labels_test,\n",
    "                    cache_dir=cache_dir, cache_file=\"preprocessed_data.pkl\"):\n",
    "    \"\"\"Convert each review to words; read from cache if available.\"\"\"\n",
    "\n",
    "    # If cache_file is not None, try to read from it first\n",
    "    cache_data = None\n",
    "    if cache_file is not None:\n",
    "        try:\n",
    "            with open(os.path.join(cache_dir, cache_file), \"rb\") as f:\n",
    "                cache_data = pickle.load(f)\n",
    "            print(\"Read preprocessed data from cache file:\", cache_file)\n",
    "        except:\n",
    "            pass  # unable to read from cache, but that's okay\n",
    "    \n",
    "    # If cache is missing, then do the heavy lifting\n",
    "    if cache_data is None:\n",
    "        # Preprocess training and test data to obtain words for each review\n",
    "        #words_train = list(map(review_to_words, data_train))\n",
    "        #words_test = list(map(review_to_words, data_test))\n",
    "        words_train = [review_to_words(review) for review in data_train]\n",
    "        words_test = [review_to_words(review) for review in data_test]\n",
    "        \n",
    "        # Write to cache file for future runs\n",
    "        if cache_file is not None:\n",
    "            cache_data = dict(words_train=words_train, words_test=words_test,\n",
    "                              labels_train=labels_train, labels_test=labels_test)\n",
    "            with open(os.path.join(cache_dir, cache_file), \"wb\") as f:\n",
    "                pickle.dump(cache_data, f)\n",
    "            print(\"Wrote preprocessed data to cache file:\", cache_file)\n",
    "    else:\n",
    "        # Unpack data loaded from cache file\n",
    "        words_train, words_test, labels_train, labels_test = (cache_data['words_train'],\n",
    "                cache_data['words_test'], cache_data['labels_train'], cache_data['labels_test'])\n",
    "    \n",
    "    return words_train, words_test, labels_train, labels_test"
   ]
  },
  {
   "cell_type": "code",
   "execution_count": 66,
   "metadata": {},
   "outputs": [
    {
     "name": "stdout",
     "output_type": "stream",
     "text": [
      "Read preprocessed data from cache file: preprocessed_data.pkl\n"
     ]
    }
   ],
   "source": [
    "# Preprocess data\n",
    "train_X, test_X, train_y, test_y = preprocess_data(train_X, test_X, train_y, test_y)"
   ]
  },
  {
   "cell_type": "markdown",
   "metadata": {},
   "source": [
    "## Transform the data\n",
    "\n",
    "In the XGBoost notebook we transformed the data from its word representation to a bag-of-words feature representation. For the model we are going to construct in this notebook we will construct a feature representation which is very similar. To start, we will represent each word as an integer. Of course, some of the words that appear in the reviews occur very infrequently and so likely don't contain much information for the purposes of sentiment analysis. The way we will deal with this problem is that we will fix the size of our working vocabulary and we will only include the words that appear most frequently. We will then combine all of the infrequent words into a single category and, in our case, we will label it as `1`.\n",
    "\n",
    "Since we will be using a recurrent neural network, it will be convenient if the length of each review is the same. To do this, we will fix a size for our reviews and then pad short reviews with the category 'no word' (which we will label `0`) and truncate long reviews."
   ]
  },
  {
   "cell_type": "markdown",
   "metadata": {},
   "source": [
    "### (TODO) Create a word dictionary\n",
    "\n",
    "To begin with, we need to construct a way to map words that appear in the reviews to integers. Here we fix the size of our vocabulary (including the 'no word' and 'infrequent' categories) to be `5000` but you may wish to change this to see how it affects the model.\n",
    "\n",
    "> **TODO:** Complete the implementation for the `build_dict()` method below. Note that even though the vocab_size is set to `5000`, we only want to construct a mapping for the most frequently appearing `4998` words. This is because we want to reserve the special labels `0` for 'no word' and `1` for 'infrequent word'."
   ]
  },
  {
   "cell_type": "code",
   "execution_count": 67,
   "metadata": {},
   "outputs": [],
   "source": [
    "import numpy as np\n",
    "from collections import Counter\n",
    "def build_dict(data, vocab_size = 5000):\n",
    "    \"\"\"Construct and return a dictionary mapping each of the most frequently appearing words to a unique integer.\"\"\"\n",
    "    \n",
    "    # TODO: Determine how often each word appears in `data`. Note that `data` is a list of sentences and that a\n",
    "    #       sentence is a list of words.\n",
    "    \n",
    "    \n",
    "   # word_count = {} # A dict storing the words that appear in the reviews along with how often they occur\n",
    "    sentences = np.concatenate(data, axis = 0) # we could use a for loop with if statement to manually create the counter\n",
    "                                            # but we have already seen the counter functionality in collections through the lessons\n",
    "    word_count = Counter(sentences)\n",
    "    # TODO: Sort the words found in `data` so that sorted_words[0] is the most frequently appearing word and\n",
    "    #       sorted_words[-1] is the least frequently appearing word.\n",
    "    \n",
    "    sorted_wordslist = word_count.most_common() # Counter provides a method to retrieve words ordered from most frequent word to lesser\n",
    "    sorted_words = [word for word,freq in sorted_wordslist]\n",
    "    freq = [freq for word,freq in sorted_wordslist]\n",
    "\n",
    "    word_dict = {} # This is what we are building, a dictionary that translates words into integers\n",
    "    for idx, word in enumerate(sorted_words[:vocab_size - 2]): # The -2 is so that we save room for the 'no word'\n",
    "        word_dict[word] = idx + 2                              # 'infrequent' labels\n",
    "        \n",
    "    return word_dict, freq"
   ]
  },
  {
   "cell_type": "code",
   "execution_count": 68,
   "metadata": {},
   "outputs": [],
   "source": [
    "word_dict,freq = build_dict(train_X)"
   ]
  },
  {
   "cell_type": "code",
   "execution_count": 69,
   "metadata": {},
   "outputs": [
    {
     "name": "stdout",
     "output_type": "stream",
     "text": [
      "{'movi': 2, 'film': 3, 'one': 4, 'like': 5, 'time': 6, 'good': 7, 'make': 8, 'charact': 9, 'get': 10, 'see': 11, 'watch': 12, 'stori': 13, 'even': 14, 'would': 15, 'realli': 16, 'well': 17, 'scene': 18, 'look': 19, 'show': 20, 'much': 21, 'end': 22, 'peopl': 23, 'bad': 24, 'go': 25, 'great': 26, 'also': 27, 'first': 28, 'love': 29, 'think': 30, 'way': 31, 'act': 32, 'play': 33, 'made': 34, 'thing': 35, 'could': 36, 'know': 37, 'say': 38, 'seem': 39, 'work': 40, 'plot': 41, 'two': 42, 'actor': 43, 'year': 44, 'come': 45, 'mani': 46, 'seen': 47, 'take': 48, 'want': 49, 'life': 50, 'never': 51, 'littl': 52, 'best': 53, 'tri': 54, 'man': 55, 'ever': 56, 'give': 57, 'better': 58, 'still': 59, 'perform': 60, 'find': 61, 'feel': 62, 'part': 63, 'back': 64, 'use': 65, 'someth': 66, 'director': 67, 'actual': 68, 'interest': 69, 'lot': 70, 'real': 71, 'old': 72, 'cast': 73, 'though': 74, 'live': 75, 'star': 76, 'enjoy': 77, 'guy': 78, 'anoth': 79, 'new': 80, 'role': 81, 'noth': 82, '10': 83, 'funni': 84, 'music': 85, 'point': 86, 'start': 87, 'set': 88, 'girl': 89, 'origin': 90, 'day': 91, 'world': 92, 'everi': 93, 'believ': 94, 'turn': 95, 'quit': 96, 'direct': 97, 'us': 98, 'thought': 99, 'fact': 100, 'minut': 101, 'horror': 102, 'kill': 103, 'action': 104, 'comedi': 105, 'pretti': 106, 'young': 107, 'wonder': 108, 'happen': 109, 'around': 110, 'got': 111, 'effect': 112, 'right': 113, 'long': 114, 'howev': 115, 'big': 116, 'line': 117, 'famili': 118, 'enough': 119, 'seri': 120, 'may': 121, 'need': 122, 'fan': 123, 'bit': 124, 'script': 125, 'beauti': 126, 'person': 127, 'becom': 128, 'without': 129, 'must': 130, 'alway': 131, 'friend': 132, 'tell': 133, 'reason': 134, 'saw': 135, 'last': 136, 'final': 137, 'kid': 138, 'almost': 139, 'put': 140, 'least': 141, 'sure': 142, 'done': 143, 'whole': 144, 'place': 145, 'complet': 146, 'kind': 147, 'expect': 148, 'differ': 149, 'shot': 150, 'far': 151, 'mean': 152, 'anyth': 153, 'book': 154, 'laugh': 155, 'might': 156, 'name': 157, 'sinc': 158, 'begin': 159, '2': 160, 'probabl': 161, 'woman': 162, 'help': 163, 'entertain': 164, 'let': 165, 'screen': 166, 'call': 167, 'tv': 168, 'moment': 169, 'away': 170, 'read': 171, 'yet': 172, 'rather': 173, 'worst': 174, 'run': 175, 'fun': 176, 'lead': 177, 'hard': 178, 'audienc': 179, 'idea': 180, 'anyon': 181, 'episod': 182, 'american': 183, 'found': 184, 'appear': 185, 'bore': 186, 'especi': 187, 'although': 188, 'hope': 189, 'keep': 190, 'cours': 191, 'anim': 192, 'job': 193, 'goe': 194, 'move': 195, 'sens': 196, 'version': 197, 'dvd': 198, 'war': 199, 'money': 200, 'someon': 201, 'mind': 202, 'mayb': 203, 'problem': 204, 'true': 205, 'hous': 206, 'everyth': 207, 'nice': 208, 'second': 209, 'rate': 210, 'three': 211, 'night': 212, 'follow': 213, 'face': 214, 'recommend': 215, 'product': 216, 'main': 217, 'worth': 218, 'leav': 219, 'human': 220, 'special': 221, 'excel': 222, 'togeth': 223, 'wast': 224, 'everyon': 225, 'sound': 226, 'john': 227, 'hand': 228, '1': 229, 'father': 230, 'later': 231, 'eye': 232, 'said': 233, 'view': 234, 'instead': 235, 'review': 236, 'boy': 237, 'high': 238, 'hour': 239, 'miss': 240, 'talk': 241, 'classic': 242, 'wife': 243, 'understand': 244, 'left': 245, 'care': 246, 'black': 247, 'death': 248, 'open': 249, 'murder': 250, 'write': 251, 'half': 252, 'head': 253, 'rememb': 254, 'chang': 255, 'viewer': 256, 'fight': 257, 'gener': 258, 'surpris': 259, 'includ': 260, 'short': 261, 'die': 262, 'fall': 263, 'less': 264, 'els': 265, 'entir': 266, 'piec': 267, 'involv': 268, 'pictur': 269, 'simpli': 270, 'top': 271, 'power': 272, 'home': 273, 'total': 274, 'usual': 275, 'budget': 276, 'attempt': 277, 'suppos': 278, 'releas': 279, 'hollywood': 280, 'terribl': 281, 'song': 282, 'men': 283, 'possibl': 284, 'featur': 285, 'portray': 286, 'disappoint': 287, 'poor': 288, '3': 289, 'coupl': 290, 'camera': 291, 'stupid': 292, 'dead': 293, 'wrong': 294, 'produc': 295, 'low': 296, 'either': 297, 'video': 298, 'aw': 299, 'definit': 300, 'except': 301, 'rest': 302, 'given': 303, 'absolut': 304, 'women': 305, 'lack': 306, 'word': 307, 'writer': 308, 'titl': 309, 'talent': 310, 'decid': 311, 'full': 312, 'perfect': 313, 'along': 314, 'style': 315, 'close': 316, 'truli': 317, 'school': 318, 'emot': 319, 'save': 320, 'sex': 321, 'age': 322, 'next': 323, 'bring': 324, 'mr': 325, 'case': 326, 'killer': 327, 'heart': 328, 'comment': 329, 'sort': 330, 'creat': 331, 'perhap': 332, 'came': 333, 'brother': 334, 'sever': 335, 'joke': 336, 'art': 337, 'dialogu': 338, 'game': 339, 'small': 340, 'base': 341, 'flick': 342, 'written': 343, 'sequenc': 344, 'meet': 345, 'earli': 346, 'often': 347, 'other': 348, 'mother': 349, 'develop': 350, 'humor': 351, 'actress': 352, 'consid': 353, 'dark': 354, 'guess': 355, 'amaz': 356, 'unfortun': 357, 'light': 358, 'lost': 359, 'exampl': 360, 'cinema': 361, 'drama': 362, 'ye': 363, 'white': 364, 'experi': 365, 'imagin': 366, 'mention': 367, 'stop': 368, 'natur': 369, 'forc': 370, 'manag': 371, 'felt': 372, 'present': 373, 'cut': 374, 'children': 375, 'fail': 376, 'son': 377, 'qualiti': 378, 'support': 379, 'car': 380, 'ask': 381, 'hit': 382, 'side': 383, 'voic': 384, 'extrem': 385, 'impress': 386, 'wors': 387, 'evil': 388, 'stand': 389, 'went': 390, 'certainli': 391, 'basic': 392, 'oh': 393, 'overal': 394, 'favorit': 395, 'horribl': 396, 'mysteri': 397, 'number': 398, 'type': 399, 'danc': 400, 'wait': 401, 'hero': 402, 'alreadi': 403, '5': 404, 'learn': 405, 'matter': 406, '4': 407, 'michael': 408, 'genr': 409, 'fine': 410, 'despit': 411, 'throughout': 412, 'walk': 413, 'success': 414, 'histori': 415, 'question': 416, 'zombi': 417, 'town': 418, 'relationship': 419, 'realiz': 420, 'child': 421, 'past': 422, 'daughter': 423, 'late': 424, 'b': 425, 'wish': 426, 'hate': 427, 'credit': 428, 'event': 429, 'theme': 430, 'touch': 431, 'citi': 432, 'today': 433, 'sometim': 434, 'behind': 435, 'god': 436, 'twist': 437, 'sit': 438, 'annoy': 439, 'stay': 440, 'deal': 441, 'abl': 442, 'rent': 443, 'pleas': 444, 'edit': 445, 'blood': 446, 'deserv': 447, 'anyway': 448, 'comic': 449, 'appar': 450, 'soon': 451, 'gave': 452, 'etc': 453, 'level': 454, 'slow': 455, 'chanc': 456, 'score': 457, 'bodi': 458, 'brilliant': 459, 'incred': 460, 'figur': 461, 'situat': 462, 'major': 463, 'self': 464, 'stuff': 465, 'decent': 466, 'element': 467, 'return': 468, 'dream': 469, 'obvious': 470, 'continu': 471, 'order': 472, 'pace': 473, 'ridicul': 474, 'happi': 475, 'highli': 476, 'group': 477, 'add': 478, 'thank': 479, 'ladi': 480, 'novel': 481, 'pain': 482, 'speak': 483, 'career': 484, 'shoot': 485, 'strang': 486, 'heard': 487, 'sad': 488, 'husband': 489, 'polic': 490, 'import': 491, 'break': 492, 'took': 493, 'strong': 494, 'cannot': 495, 'predict': 496, 'robert': 497, 'violenc': 498, 'hilari': 499, 'recent': 500, 'countri': 501, 'known': 502, 'particularli': 503, 'pick': 504, 'documentari': 505, 'season': 506, 'critic': 507, 'jame': 508, 'compar': 509, 'obviou': 510, 'alon': 511, 'told': 512, 'state': 513, 'rock': 514, 'visual': 515, 'exist': 516, 'offer': 517, 'theater': 518, 'opinion': 519, 'gore': 520, 'hold': 521, 'crap': 522, 'result': 523, 'realiti': 524, 'hear': 525, 'room': 526, 'effort': 527, 'clich': 528, 'thriller': 529, 'caus': 530, 'sequel': 531, 'serious': 532, 'explain': 533, 'king': 534, 'local': 535, 'ago': 536, 'hell': 537, 'none': 538, 'note': 539, 'allow': 540, 'david': 541, 'sister': 542, 'simpl': 543, 'femal': 544, 'deliv': 545, 'ok': 546, 'class': 547, 'convinc': 548, 'check': 549, 'suspens': 550, 'win': 551, 'oscar': 552, 'buy': 553, 'huge': 554, 'valu': 555, 'sexual': 556, 'cool': 557, 'scari': 558, 'excit': 559, 'similar': 560, 'apart': 561, 'provid': 562, 'exactli': 563, 'avoid': 564, 'shown': 565, 'seriou': 566, 'english': 567, 'taken': 568, 'whose': 569, 'cinematographi': 570, 'shock': 571, 'polit': 572, 'spoiler': 573, 'offic': 574, 'across': 575, 'middl': 576, 'street': 577, 'pass': 578, 'messag': 579, 'silli': 580, 'somewhat': 581, 'charm': 582, 'modern': 583, 'confus': 584, 'filmmak': 585, 'form': 586, 'tale': 587, 'singl': 588, 'jack': 589, 'mostli': 590, 'carri': 591, 'william': 592, 'attent': 593, 'sing': 594, 'five': 595, 'subject': 596, 'prove': 597, 'richard': 598, 'stage': 599, 'team': 600, 'cop': 601, 'unlik': 602, 'georg': 603, 'televis': 604, 'monster': 605, 'earth': 606, 'villain': 607, 'cover': 608, 'pay': 609, 'marri': 610, 'toward': 611, 'build': 612, 'parent': 613, 'pull': 614, 'due': 615, 'fill': 616, 'respect': 617, 'four': 618, 'dialog': 619, 'remind': 620, 'futur': 621, 'weak': 622, 'typic': 623, '7': 624, 'cheap': 625, 'intellig': 626, 'atmospher': 627, 'british': 628, 'clearli': 629, '80': 630, 'paul': 631, 'non': 632, 'dog': 633, 'knew': 634, 'artist': 635, 'fast': 636, '8': 637, 'crime': 638, 'easili': 639, 'escap': 640, 'doubt': 641, 'adult': 642, 'detail': 643, 'date': 644, 'romant': 645, 'fire': 646, 'member': 647, 'gun': 648, 'drive': 649, 'straight': 650, 'beyond': 651, 'fit': 652, 'attack': 653, 'imag': 654, 'upon': 655, 'posit': 656, 'whether': 657, 'fantast': 658, 'peter': 659, 'captur': 660, 'appreci': 661, 'aspect': 662, 'ten': 663, 'plan': 664, 'discov': 665, 'remain': 666, 'near': 667, 'period': 668, 'air': 669, 'realist': 670, 'mark': 671, 'red': 672, 'dull': 673, 'adapt': 674, 'within': 675, 'spend': 676, 'lose': 677, 'materi': 678, 'color': 679, 'chase': 680, 'mari': 681, 'storylin': 682, 'forget': 683, 'bunch': 684, 'clear': 685, 'lee': 686, 'victim': 687, 'nearli': 688, 'box': 689, 'york': 690, 'inspir': 691, 'match': 692, 'finish': 693, 'mess': 694, 'standard': 695, 'easi': 696, 'truth': 697, 'suffer': 698, 'busi': 699, 'space': 700, 'bill': 701, 'dramat': 702, 'western': 703, 'e': 704, 'list': 705, 'battl': 706, 'notic': 707, 'de': 708, 'french': 709, 'ad': 710, '9': 711, 'tom': 712, 'larg': 713, 'among': 714, 'eventu': 715, 'accept': 716, 'train': 717, 'agre': 718, 'soundtrack': 719, 'spirit': 720, 'third': 721, 'teenag': 722, 'soldier': 723, 'adventur': 724, 'drug': 725, 'sorri': 726, 'famou': 727, 'suggest': 728, 'cri': 729, 'babi': 730, 'normal': 731, 'ultim': 732, 'troubl': 733, 'contain': 734, 'certain': 735, 'cultur': 736, 'romanc': 737, 'rare': 738, 'lame': 739, 'somehow': 740, 'disney': 741, 'mix': 742, 'gone': 743, 'cartoon': 744, 'student': 745, 'reveal': 746, 'fear': 747, 'kept': 748, 'suck': 749, 'attract': 750, 'appeal': 751, 'premis': 752, 'greatest': 753, 'secret': 754, 'design': 755, 'shame': 756, 'throw': 757, 'scare': 758, 'copi': 759, 'wit': 760, 'america': 761, 'admit': 762, 'brought': 763, 'relat': 764, 'particular': 765, 'screenplay': 766, 'whatev': 767, 'pure': 768, '70': 769, 'harri': 770, 'averag': 771, 'master': 772, 'describ': 773, 'treat': 774, 'male': 775, '20': 776, 'fantasi': 777, 'issu': 778, 'warn': 779, 'inde': 780, 'background': 781, 'forward': 782, 'free': 783, 'project': 784, 'memor': 785, 'japanes': 786, 'poorli': 787, 'award': 788, 'locat': 789, 'potenti': 790, 'amus': 791, 'struggl': 792, 'weird': 793, 'magic': 794, 'societi': 795, 'okay': 796, 'doctor': 797, 'accent': 798, 'imdb': 799, 'water': 800, 'hot': 801, 'dr': 802, 'express': 803, 'alien': 804, '30': 805, 'odd': 806, 'crazi': 807, 'choic': 808, 'fiction': 809, 'studio': 810, 'control': 811, 'becam': 812, 'masterpiec': 813, 'difficult': 814, 'fli': 815, 'joe': 816, 'scream': 817, 'costum': 818, 'lover': 819, 'refer': 820, 'uniqu': 821, 'remak': 822, 'girlfriend': 823, 'vampir': 824, 'prison': 825, 'execut': 826, 'wear': 827, 'jump': 828, 'unless': 829, 'wood': 830, 'creepi': 831, 'cheesi': 832, 'superb': 833, 'otherwis': 834, 'parti': 835, 'roll': 836, 'ghost': 837, 'public': 838, 'mad': 839, 'depict': 840, 'earlier': 841, 'moral': 842, 'week': 843, 'jane': 844, 'badli': 845, 'dumb': 846, 'fi': 847, 'grow': 848, 'flaw': 849, 'deep': 850, 'sci': 851, 'cat': 852, 'maker': 853, 'connect': 854, 'older': 855, 'footag': 856, 'bother': 857, 'plenti': 858, 'outsid': 859, 'stick': 860, 'gay': 861, 'catch': 862, 'co': 863, 'plu': 864, 'popular': 865, 'equal': 866, 'social': 867, 'disturb': 868, 'quickli': 869, 'perfectli': 870, 'dress': 871, '90': 872, 'era': 873, 'mistak': 874, 'lie': 875, 'ride': 876, 'previou': 877, 'combin': 878, 'band': 879, 'concept': 880, 'answer': 881, 'surviv': 882, 'rich': 883, 'front': 884, 'sweet': 885, 'christma': 886, 'insid': 887, 'eat': 888, 'bare': 889, 'concern': 890, 'beat': 891, 'listen': 892, 'ben': 893, 'c': 894, 'serv': 895, 'term': 896, 'meant': 897, 'la': 898, 'german': 899, 'stereotyp': 900, 'hardli': 901, 'innoc': 902, 'law': 903, 'desper': 904, 'memori': 905, 'promis': 906, 'intent': 907, 'cute': 908, 'variou': 909, 'inform': 910, 'steal': 911, 'brain': 912, 'post': 913, 'tone': 914, 'island': 915, 'amount': 916, 'compani': 917, 'nuditi': 918, 'track': 919, 'store': 920, 'claim': 921, 'flat': 922, 'hair': 923, '50': 924, 'land': 925, 'univers': 926, 'danger': 927, 'scott': 928, 'kick': 929, 'fairli': 930, 'player': 931, 'step': 932, 'crew': 933, 'plain': 934, 'toni': 935, 'share': 936, 'centuri': 937, 'tast': 938, 'achiev': 939, 'engag': 940, 'cold': 941, 'travel': 942, 'suit': 943, 'record': 944, 'rip': 945, 'manner': 946, 'sadli': 947, 'spot': 948, 'tension': 949, 'wrote': 950, 'fascin': 951, 'intens': 952, 'familiar': 953, 'depth': 954, 'remark': 955, 'burn': 956, 'destroy': 957, 'histor': 958, 'sleep': 959, 'purpos': 960, 'languag': 961, 'ruin': 962, 'ignor': 963, 'delight': 964, 'unbeliev': 965, 'italian': 966, 'soul': 967, 'abil': 968, 'collect': 969, 'clever': 970, 'detect': 971, 'violent': 972, 'rape': 973, 'reach': 974, 'door': 975, 'liter': 976, 'trash': 977, 'scienc': 978, 'caught': 979, 'reveng': 980, 'commun': 981, 'creatur': 982, 'trip': 983, 'approach': 984, 'fashion': 985, 'intrigu': 986, 'skill': 987, 'paint': 988, 'introduc': 989, 'channel': 990, 'complex': 991, 'camp': 992, 'christian': 993, 'hole': 994, 'extra': 995, 'mental': 996, 'ann': 997, 'immedi': 998, 'limit': 999, 'comput': 1000, '6': 1001, 'mere': 1002, 'slightli': 1003, 'million': 1004, 'slasher': 1005, 'conclus': 1006, 'imposs': 1007, 'suddenli': 1008, 'crimin': 1009, 'neither': 1010, 'teen': 1011, 'physic': 1012, 'spent': 1013, 'nation': 1014, 'respons': 1015, 'planet': 1016, 'fake': 1017, 'receiv': 1018, 'blue': 1019, 'sick': 1020, 'bizarr': 1021, 'embarrass': 1022, 'indian': 1023, 'ring': 1024, '15': 1025, 'drop': 1026, 'pop': 1027, 'drag': 1028, 'haunt': 1029, 'suspect': 1030, 'pointless': 1031, 'search': 1032, 'edg': 1033, 'handl': 1034, 'common': 1035, 'biggest': 1036, 'faith': 1037, 'arriv': 1038, 'hurt': 1039, 'technic': 1040, 'angel': 1041, 'genuin': 1042, 'dad': 1043, 'awesom': 1044, 'solid': 1045, 'f': 1046, 'former': 1047, 'focu': 1048, 'colleg': 1049, 'van': 1050, 'count': 1051, 'heavi': 1052, 'tear': 1053, 'wall': 1054, 'rais': 1055, 'laughabl': 1056, 'younger': 1057, 'visit': 1058, 'fair': 1059, 'sign': 1060, 'excus': 1061, 'cult': 1062, 'tough': 1063, 'motion': 1064, 'key': 1065, 'desir': 1066, 'super': 1067, 'stun': 1068, 'addit': 1069, 'cloth': 1070, 'exploit': 1071, 'smith': 1072, 'tortur': 1073, 'race': 1074, 'davi': 1075, 'cross': 1076, 'author': 1077, 'jim': 1078, 'minor': 1079, 'compel': 1080, 'consist': 1081, 'focus': 1082, 'chemistri': 1083, 'pathet': 1084, 'commit': 1085, 'park': 1086, 'obsess': 1087, 'frank': 1088, 'tradit': 1089, 'grade': 1090, 'asid': 1091, '60': 1092, 'brutal': 1093, 'somewher': 1094, 'steve': 1095, 'u': 1096, 'depress': 1097, 'grant': 1098, 'opportun': 1099, 'explor': 1100, 'rule': 1101, 'honest': 1102, 'besid': 1103, 'anti': 1104, 'dub': 1105, 'intend': 1106, 'trailer': 1107, 'bar': 1108, 'scientist': 1109, 'longer': 1110, 'regard': 1111, 'west': 1112, 'judg': 1113, 'decad': 1114, 'silent': 1115, 'armi': 1116, 'creativ': 1117, 'wild': 1118, 'south': 1119, 'g': 1120, 'stewart': 1121, 'draw': 1122, 'road': 1123, 'govern': 1124, 'ex': 1125, 'boss': 1126, 'practic': 1127, 'motiv': 1128, 'festiv': 1129, 'club': 1130, 'surprisingli': 1131, 'gang': 1132, 'green': 1133, 'london': 1134, 'redeem': 1135, 'page': 1136, 'idiot': 1137, 'display': 1138, 'aliv': 1139, 'militari': 1140, 'machin': 1141, 'thrill': 1142, 'repeat': 1143, 'yeah': 1144, 'folk': 1145, 'nobodi': 1146, '100': 1147, '40': 1148, 'journey': 1149, 'garbag': 1150, 'smile': 1151, 'tire': 1152, 'ground': 1153, 'mood': 1154, 'bought': 1155, 'sam': 1156, 'cost': 1157, 'stone': 1158, 'noir': 1159, 'mouth': 1160, 'agent': 1161, 'terrif': 1162, 'utterli': 1163, 'requir': 1164, 'area': 1165, 'honestli': 1166, 'sexi': 1167, 'geniu': 1168, 'report': 1169, 'humour': 1170, 'investig': 1171, 'glad': 1172, 'enter': 1173, 'serial': 1174, 'passion': 1175, 'occasion': 1176, 'narr': 1177, 'marriag': 1178, 'climax': 1179, 'studi': 1180, 'industri': 1181, 'nowher': 1182, 'center': 1183, 'charli': 1184, 'ship': 1185, 'demon': 1186, 'bear': 1187, 'hors': 1188, 'loos': 1189, 'wow': 1190, 'hang': 1191, 'graphic': 1192, 'giant': 1193, 'admir': 1194, 'send': 1195, 'damn': 1196, 'loud': 1197, 'profession': 1198, 'nake': 1199, 'subtl': 1200, 'rel': 1201, 'blow': 1202, 'bottom': 1203, 'insult': 1204, 'batman': 1205, 'r': 1206, 'boyfriend': 1207, 'doubl': 1208, 'kelli': 1209, 'initi': 1210, 'frame': 1211, 'gem': 1212, 'opera': 1213, 'cinemat': 1214, 'drawn': 1215, 'church': 1216, 'challeng': 1217, 'affect': 1218, 'j': 1219, 'evid': 1220, 'nightmar': 1221, 'seek': 1222, 'fulli': 1223, 'l': 1224, 'arm': 1225, 'essenti': 1226, 'conflict': 1227, 'wind': 1228, 'grace': 1229, 'henri': 1230, 'christoph': 1231, 'witch': 1232, 'assum': 1233, 'narrat': 1234, 'hunt': 1235, 'push': 1236, 'chri': 1237, 'wise': 1238, 'month': 1239, 'nomin': 1240, 'repres': 1241, 'hide': 1242, 'avail': 1243, 'sceneri': 1244, 'affair': 1245, 'smart': 1246, 'justic': 1247, 'thu': 1248, 'bond': 1249, 'outstand': 1250, 'flashback': 1251, 'interview': 1252, 'constantli': 1253, 'presenc': 1254, 'satisfi': 1255, 'central': 1256, 'bed': 1257, 'iron': 1258, 'content': 1259, 'sell': 1260, 'gag': 1261, 'everybodi': 1262, 'slowli': 1263, 'hotel': 1264, 'hire': 1265, 'system': 1266, 'individu': 1267, 'hey': 1268, 'adam': 1269, 'charl': 1270, 'thrown': 1271, 'mediocr': 1272, 'allen': 1273, 'jone': 1274, 'ray': 1275, 'lesson': 1276, 'billi': 1277, 'photographi': 1278, 'cameo': 1279, 'fellow': 1280, 'pari': 1281, 'strike': 1282, 'absurd': 1283, 'independ': 1284, 'brief': 1285, 'rise': 1286, 'neg': 1287, 'phone': 1288, 'impact': 1289, 'born': 1290, 'model': 1291, 'ill': 1292, 'spoil': 1293, 'fresh': 1294, 'angl': 1295, 'abus': 1296, 'likabl': 1297, 'hill': 1298, 'discuss': 1299, 'sight': 1300, 'ahead': 1301, 'photograph': 1302, 'sent': 1303, 'occur': 1304, 'logic': 1305, 'shine': 1306, 'blame': 1307, 'bruce': 1308, 'mainli': 1309, 'skip': 1310, 'commerci': 1311, 'forev': 1312, 'teacher': 1313, 'held': 1314, 'surround': 1315, 'segment': 1316, 'zero': 1317, 'blond': 1318, 'satir': 1319, 'trap': 1320, 'resembl': 1321, 'summer': 1322, 'six': 1323, 'queen': 1324, 'fool': 1325, 'ball': 1326, 'sub': 1327, 'tragedi': 1328, 'twice': 1329, 'pack': 1330, 'reaction': 1331, 'bomb': 1332, 'protagonist': 1333, 'will': 1334, 'hospit': 1335, 'mile': 1336, 'sport': 1337, 'drink': 1338, 'mom': 1339, 'jerri': 1340, 'vote': 1341, 'trust': 1342, 'encount': 1343, 'plane': 1344, 'current': 1345, 'program': 1346, 'al': 1347, 'station': 1348, 'celebr': 1349, 'martin': 1350, 'choos': 1351, 'join': 1352, 'lord': 1353, 'tragic': 1354, 'round': 1355, 'field': 1356, 'favourit': 1357, 'vision': 1358, 'jean': 1359, 'robot': 1360, 'tie': 1361, 'arthur': 1362, 'roger': 1363, 'fortun': 1364, 'random': 1365, 'dread': 1366, 'psycholog': 1367, 'intern': 1368, 'nonsens': 1369, 'prefer': 1370, 'epic': 1371, 'improv': 1372, 'formula': 1373, 'highlight': 1374, 'legend': 1375, 'pleasur': 1376, 'tape': 1377, 'dollar': 1378, '11': 1379, 'thin': 1380, 'wide': 1381, 'porn': 1382, 'gorgeou': 1383, 'object': 1384, 'fox': 1385, 'buddi': 1386, 'ugli': 1387, 'influenc': 1388, 'prepar': 1389, 'nasti': 1390, 'ii': 1391, 'supposedli': 1392, 'progress': 1393, 'reflect': 1394, 'warm': 1395, 'worthi': 1396, 'youth': 1397, 'length': 1398, 'unusu': 1399, 'latter': 1400, 'crash': 1401, 'superior': 1402, 'shop': 1403, 'childhood': 1404, 'seven': 1405, 'remot': 1406, 'theatr': 1407, 'funniest': 1408, 'paid': 1409, 'disgust': 1410, 'pilot': 1411, 'convers': 1412, 'trick': 1413, 'fell': 1414, 'castl': 1415, 'rob': 1416, 'gangster': 1417, 'disast': 1418, 'establish': 1419, 'disappear': 1420, 'suicid': 1421, 'ident': 1422, 'heaven': 1423, 'mine': 1424, 'mask': 1425, 'tend': 1426, 'forgotten': 1427, 'decis': 1428, 'heroin': 1429, 'singer': 1430, 'partner': 1431, 'brian': 1432, 'alan': 1433, 'desert': 1434, 'recogn': 1435, 'sky': 1436, 'p': 1437, 'stuck': 1438, 'thoroughli': 1439, 'ms': 1440, 'replac': 1441, 'accur': 1442, 'market': 1443, 'eddi': 1444, 'commentari': 1445, 'andi': 1446, 'seemingli': 1447, 'clue': 1448, 'danni': 1449, 'uncl': 1450, 'jackson': 1451, 'devil': 1452, 'therefor': 1453, 'refus': 1454, 'pair': 1455, 'that': 1456, 'fate': 1457, 'unit': 1458, 'ed': 1459, 'river': 1460, 'fault': 1461, 'accid': 1462, 'afraid': 1463, 'tune': 1464, 'russian': 1465, 'clean': 1466, 'stephen': 1467, 'hidden': 1468, 'readi': 1469, 'quick': 1470, 'instanc': 1471, 'test': 1472, 'convey': 1473, 'captain': 1474, 'irrit': 1475, 'european': 1476, 'frustrat': 1477, 'daniel': 1478, 'insan': 1479, 'food': 1480, '1950': 1481, 'rescu': 1482, 'wed': 1483, 'chines': 1484, 'angri': 1485, 'dirti': 1486, 'lock': 1487, 'joy': 1488, 'price': 1489, 'steven': 1490, 'cage': 1491, 'bland': 1492, 'rang': 1493, 'anymor': 1494, 'wooden': 1495, 'news': 1496, 'n': 1497, 'rush': 1498, 'jason': 1499, 'worri': 1500, 'martial': 1501, '12': 1502, 'board': 1503, 'led': 1504, 'twenti': 1505, 'cgi': 1506, 'hunter': 1507, 'symbol': 1508, 'transform': 1509, 'onto': 1510, 'sentiment': 1511, 'x': 1512, 'invent': 1513, 'piti': 1514, 'johnni': 1515, 'process': 1516, 'attitud': 1517, 'explan': 1518, 'owner': 1519, 'awar': 1520, 'aim': 1521, 'energi': 1522, 'floor': 1523, 'favor': 1524, 'target': 1525, 'necessari': 1526, 'religi': 1527, 'opposit': 1528, 'window': 1529, 'insight': 1530, 'chick': 1531, 'blind': 1532, 'movement': 1533, 'possess': 1534, 'deepli': 1535, 'comparison': 1536, 'mountain': 1537, 'research': 1538, 'whatsoev': 1539, 'grand': 1540, 'comed': 1541, 'rain': 1542, 'began': 1543, 'bank': 1544, 'shadow': 1545, 'mid': 1546, 'parodi': 1547, 'princ': 1548, 'credibl': 1549, 'taylor': 1550, 'weapon': 1551, 'pre': 1552, 'friendship': 1553, 'dougla': 1554, 'teach': 1555, 'flesh': 1556, 'hint': 1557, 'bloodi': 1558, 'terror': 1559, 'protect': 1560, 'marvel': 1561, 'anybodi': 1562, 'watchabl': 1563, 'accord': 1564, 'load': 1565, 'leader': 1566, 'drunk': 1567, 'superman': 1568, 'brown': 1569, 'freddi': 1570, 'jeff': 1571, 'tim': 1572, 'hitler': 1573, 'seat': 1574, 'appropri': 1575, 'charg': 1576, 'knock': 1577, 'villag': 1578, 'unknown': 1579, 'keaton': 1580, 'empti': 1581, 'media': 1582, 'unnecessari': 1583, 'england': 1584, 'enemi': 1585, 'strength': 1586, 'craft': 1587, 'perspect': 1588, 'utter': 1589, 'buck': 1590, 'dare': 1591, 'wave': 1592, 'kiss': 1593, 'ford': 1594, 'contrast': 1595, 'correct': 1596, 'nativ': 1597, 'soap': 1598, 'knowledg': 1599, 'anywher': 1600, 'chill': 1601, 'distract': 1602, 'magnific': 1603, 'speed': 1604, 'nazi': 1605, '1980': 1606, 'fred': 1607, 'mission': 1608, 'breath': 1609, 'ice': 1610, 'moon': 1611, 'crowd': 1612, 'jr': 1613, 'joan': 1614, 'frighten': 1615, 'soft': 1616, '000': 1617, 'kate': 1618, 'dan': 1619, 'dick': 1620, 'hundr': 1621, 'nick': 1622, 'somebodi': 1623, 'dozen': 1624, 'radio': 1625, 'simon': 1626, 'loss': 1627, 'academi': 1628, 'thousand': 1629, 'shakespear': 1630, 'andrew': 1631, 'account': 1632, 'sum': 1633, 'quot': 1634, 'vehicl': 1635, 'root': 1636, 'behavior': 1637, '1970': 1638, 'leg': 1639, 'convent': 1640, 'gold': 1641, 'regular': 1642, 'demand': 1643, 'compet': 1644, 'pretenti': 1645, 'worker': 1646, 'lynch': 1647, 'candi': 1648, 'interpret': 1649, 'stretch': 1650, 'notabl': 1651, 'privat': 1652, 'japan': 1653, 'explos': 1654, 'tarzan': 1655, 'debut': 1656, 'constant': 1657, 'sea': 1658, 'spi': 1659, 'revolv': 1660, 'translat': 1661, 'prais': 1662, 'threaten': 1663, 'ass': 1664, 'franc': 1665, 'jesu': 1666, 'quiet': 1667, 'sat': 1668, 'technolog': 1669, 'failur': 1670, 'kevin': 1671, 'aid': 1672, 'met': 1673, 'punch': 1674, 'higher': 1675, 'toy': 1676, 'abandon': 1677, 'interact': 1678, 'mike': 1679, 'vh': 1680, 'confront': 1681, 'command': 1682, 'bet': 1683, 'separ': 1684, 'stunt': 1685, 'techniqu': 1686, 'gotten': 1687, 'belong': 1688, 'servic': 1689, 'site': 1690, 'recal': 1691, 'foot': 1692, 'freak': 1693, 'cabl': 1694, 'bug': 1695, 'bright': 1696, 'fu': 1697, 'jimmi': 1698, 'african': 1699, 'capabl': 1700, 'succeed': 1701, 'fat': 1702, 'stock': 1703, 'presid': 1704, 'boat': 1705, 'clark': 1706, 'structur': 1707, 'gene': 1708, 'spanish': 1709, 'kidnap': 1710, 'paper': 1711, 'whilst': 1712, 'belief': 1713, 'factor': 1714, 'realism': 1715, 'tree': 1716, 'attend': 1717, 'complic': 1718, 'educ': 1719, 'realis': 1720, 'bob': 1721, 'witti': 1722, 'finest': 1723, 'assist': 1724, 'broken': 1725, 'santa': 1726, 'determin': 1727, 'smoke': 1728, 'v': 1729, 'up': 1730, 'depart': 1731, 'observ': 1732, 'oper': 1733, 'domin': 1734, 'rubbish': 1735, 'routin': 1736, 'fame': 1737, 'lewi': 1738, 'hat': 1739, 'advanc': 1740, 'lone': 1741, 'safe': 1742, 'kinda': 1743, 'morgan': 1744, 'hook': 1745, 'foreign': 1746, 'rank': 1747, 'numer': 1748, 'werewolf': 1749, 'shape': 1750, 'civil': 1751, 'shallow': 1752, 'rose': 1753, 'washington': 1754, 'vs': 1755, 'gari': 1756, 'morn': 1757, 'ordinari': 1758, 'accomplish': 1759, 'winner': 1760, 'kong': 1761, 'peac': 1762, 'whenev': 1763, 'virtual': 1764, 'grab': 1765, 'offens': 1766, 'luck': 1767, 'h': 1768, 'unfunni': 1769, 'patient': 1770, 'bigger': 1771, 'contriv': 1772, 'activ': 1773, 'welcom': 1774, 'complain': 1775, 'dimension': 1776, 'con': 1777, 'trek': 1778, 'pretend': 1779, 'lesbian': 1780, 'code': 1781, 'eric': 1782, 'wake': 1783, 'flash': 1784, 'dri': 1785, 'cain': 1786, 'guard': 1787, 'manipul': 1788, 'statu': 1789, 'corrupt': 1790, 'albert': 1791, 'dancer': 1792, 'awkward': 1793, 'context': 1794, 'signific': 1795, 'speech': 1796, 'gain': 1797, 'sourc': 1798, 'clip': 1799, 'corni': 1800, 'psycho': 1801, 'sean': 1802, 'anthoni': 1803, '13': 1804, 'curiou': 1805, 'reli': 1806, 'religion': 1807, 'priest': 1808, 'advic': 1809, 'w': 1810, 'theatric': 1811, 'flow': 1812, 'addict': 1813, 'asian': 1814, 'specif': 1815, 'skin': 1816, 'secur': 1817, 'jennif': 1818, 'howard': 1819, 'promot': 1820, 'comfort': 1821, 'core': 1822, 'golden': 1823, 'organ': 1824, 'luke': 1825, 'cheat': 1826, 'cash': 1827, 'lucki': 1828, 'lower': 1829, 'dislik': 1830, 'associ': 1831, 'frankli': 1832, 'frequent': 1833, 'regret': 1834, 'degre': 1835, 'devic': 1836, 'balanc': 1837, 'contribut': 1838, 'spell': 1839, 'wing': 1840, 'print': 1841, 'sake': 1842, 'forgiv': 1843, 'lake': 1844, 'mass': 1845, 'thoma': 1846, 'betti': 1847, 'gordon': 1848, 'crack': 1849, 'unexpect': 1850, 'amateur': 1851, 'construct': 1852, 'depend': 1853, 'invit': 1854, 'grown': 1855, 'unfold': 1856, 'categori': 1857, 'matur': 1858, 'walter': 1859, 'condit': 1860, 'intellectu': 1861, 'grew': 1862, 'anna': 1863, 'honor': 1864, 'veteran': 1865, 'mirror': 1866, 'sudden': 1867, 'spectacular': 1868, 'sole': 1869, 'meanwhil': 1870, 'experienc': 1871, 'grip': 1872, 'card': 1873, 'demonstr': 1874, 'overli': 1875, 'gift': 1876, 'liner': 1877, 'freedom': 1878, 'robin': 1879, 'sheriff': 1880, 'brilliantli': 1881, 'circumst': 1882, 'unabl': 1883, 'section': 1884, 'crappi': 1885, 'subtitl': 1886, 'colour': 1887, 'oliv': 1888, 'theori': 1889, 'drew': 1890, 'laughter': 1891, 'matt': 1892, 'sheer': 1893, 'path': 1894, 'parker': 1895, 'cook': 1896, 'altern': 1897, 'pile': 1898, 'treatment': 1899, 'relief': 1900, 'hall': 1901, 'defin': 1902, 'lawyer': 1903, 'sinatra': 1904, 'wander': 1905, 'accident': 1906, 'dragon': 1907, 'captiv': 1908, 'hank': 1909, 'halloween': 1910, 'gratuit': 1911, 'moor': 1912, 'unintent': 1913, 'wayn': 1914, 'wound': 1915, 'k': 1916, 'kung': 1917, 'barbara': 1918, 'cowboy': 1919, 'jacki': 1920, 'broadway': 1921, 'statement': 1922, 'winter': 1923, 'spoof': 1924, 'surreal': 1925, 'canadian': 1926, 'fare': 1927, 'gonna': 1928, 'cheer': 1929, 'treasur': 1930, 'fish': 1931, 'compos': 1932, 'woodi': 1933, 'victor': 1934, 'unrealist': 1935, 'emerg': 1936, 'sensit': 1937, 'driven': 1938, 'sympathet': 1939, 'ran': 1940, 'neighbor': 1941, 'topic': 1942, 'overlook': 1943, 'glass': 1944, 'menac': 1945, 'expos': 1946, 'authent': 1947, 'gross': 1948, 'michel': 1949, 'handsom': 1950, 'chief': 1951, 'ancient': 1952, 'built': 1953, 'russel': 1954, 'comedian': 1955, 'cinderella': 1956, 'nevertheless': 1957, 'network': 1958, 'feet': 1959, 'stranger': 1960, 'contemporari': 1961, 'pleasant': 1962, 'letter': 1963, 'endless': 1964, 'earn': 1965, 'gori': 1966, 'consider': 1967, 'blockbust': 1968, 'miser': 1969, 'underr': 1970, 'brook': 1971, 'switch': 1972, 'solv': 1973, 'convict': 1974, 'edward': 1975, 'bullet': 1976, 'virgin': 1977, 'joseph': 1978, 'victoria': 1979, 'scale': 1980, 'alex': 1981, '0': 1982, 'scenario': 1983, 'chosen': 1984, 'cynic': 1985, 'com': 1986, 'outrag': 1987, 'gut': 1988, 'curs': 1989, 'sword': 1990, 'monkey': 1991, 'substanc': 1992, 'driver': 1993, 'uk': 1994, 'wrap': 1995, 'juli': 1996, 'screenwrit': 1997, 'proper': 1998, 'indic': 1999, 'court': 2000, 'par': 2001, 'remov': 2002, 'bird': 2003, 'advertis': 2004, 'rental': 2005, 'roy': 2006, 'consequ': 2007, 'naiv': 2008, 'grave': 2009, 'inevit': 2010, 'loser': 2011, 'nanci': 2012, 'slap': 2013, 'invis': 2014, 'germani': 2015, 'fatal': 2016, 'le': 2017, 'bridg': 2018, 'brave': 2019, 'anger': 2020, 'loui': 2021, 'provok': 2022, 'ador': 2023, 'footbal': 2024, 'anderson': 2025, 'chan': 2026, 'alcohol': 2027, 'professor': 2028, 'stumbl': 2029, 'ryan': 2030, 'willi': 2031, 'australian': 2032, 'bat': 2033, 'assassin': 2034, '1930': 2035, 'sharp': 2036, 'patrick': 2037, 'trilog': 2038, 'saturday': 2039, 'cell': 2040, 'strongli': 2041, 'refresh': 2042, 'heck': 2043, 'eight': 2044, 'liber': 2045, 'ape': 2046, 'amateurish': 2047, 'deni': 2048, 'lousi': 2049, 'sin': 2050, 'vagu': 2051, 'san': 2052, 'resid': 2053, 'justifi': 2054, 'creator': 2055, 'terrifi': 2056, 'indi': 2057, 'defeat': 2058, 'mini': 2059, 'sympathi': 2060, 'reput': 2061, 'tediou': 2062, 'task': 2063, 'expert': 2064, 'tabl': 2065, 'prevent': 2066, 'endur': 2067, 'trial': 2068, 'employ': 2069, 'rival': 2070, 'offend': 2071, 'basebal': 2072, 'imit': 2073, 'che': 2074, 'fairi': 2075, 'europ': 2076, 'beach': 2077, 'complaint': 2078, 'max': 2079, 'weekend': 2080, 'pitch': 2081, 'dig': 2082, 'murphi': 2083, 'format': 2084, 'purchas': 2085, 'risk': 2086, 'bite': 2087, 'harsh': 2088, 'nois': 2089, 'glimps': 2090, 'hype': 2091, 'reminisc': 2092, 'tini': 2093, 'powel': 2094, 'titan': 2095, '14': 2096, 'fals': 2097, 'till': 2098, 'north': 2099, 'asleep': 2100, 'strip': 2101, 'prime': 2102, 'africa': 2103, 'descript': 2104, 'destruct': 2105, 'texa': 2106, 'revel': 2107, 'inner': 2108, 'surfac': 2109, 'spin': 2110, 'excess': 2111, 'semi': 2112, 'arrest': 2113, 'uninterest': 2114, 'sitcom': 2115, 'maintain': 2116, 'massiv': 2117, 'twin': 2118, 'controversi': 2119, 'makeup': 2120, 'dinosaur': 2121, 'argu': 2122, 'hitchcock': 2123, 'ideal': 2124, 'expens': 2125, 'melodrama': 2126, 'ludicr': 2127, 'stare': 2128, 'insist': 2129, 'reject': 2130, 'kim': 2131, 'erot': 2132, 'press': 2133, 'forest': 2134, 'subplot': 2135, 'nail': 2136, 'ga': 2137, 'atroci': 2138, 'ala': 2139, 'columbo': 2140, 'host': 2141, 'supernatur': 2142, 'notch': 2143, 'presum': 2144, 'cant': 2145, 'dude': 2146, 'identifi': 2147, 'forgett': 2148, 'plagu': 2149, 'method': 2150, 'closer': 2151, 'crude': 2152, 'character': 2153, 'guest': 2154, 'border': 2155, 'princess': 2156, 'lion': 2157, 'beast': 2158, 'landscap': 2159, 'ear': 2160, 'foster': 2161, 'accus': 2162, 'aunt': 2163, 'jungl': 2164, 'previous': 2165, 'storytel': 2166, 'bound': 2167, 'urban': 2168, 'pacino': 2169, 'damag': 2170, 'birth': 2171, 'thirti': 2172, 'guid': 2173, 'doll': 2174, 'chose': 2175, 'jess': 2176, 'nude': 2177, 'propaganda': 2178, 'emma': 2179, 'pet': 2180, 'whoever': 2181, 'warrior': 2182, 'mainstream': 2183, 'mate': 2184, '25': 2185, 'friday': 2186, 'latest': 2187, 'deadli': 2188, 'size': 2189, 'poster': 2190, 'gritti': 2191, 'exact': 2192, 'merit': 2193, 'upset': 2194, 'cooper': 2195, 'blend': 2196, 'sun': 2197, '1990': 2198, 'wilson': 2199, 'corps': 2200, 'citizen': 2201, 'ton': 2202, 'settl': 2203, 'popul': 2204, 'contact': 2205, 'warner': 2206, 'contest': 2207, 'rough': 2208, 'buff': 2209, 'rat': 2210, 'widow': 2211, 'alic': 2212, 'pitt': 2213, 'select': 2214, 'environ': 2215, 'bu': 2216, 'metal': 2217, 'mgm': 2218, 'overcom': 2219, 'guilti': 2220, 'link': 2221, 'lift': 2222, 'ted': 2223, 'particip': 2224, 'revolut': 2225, 'johnson': 2226, 'corpor': 2227, '1960': 2228, 'matrix': 2229, 'moron': 2230, 'corner': 2231, 'afternoon': 2232, 'exagger': 2233, 'prostitut': 2234, 'accompani': 2235, 'hood': 2236, 'multipl': 2237, 'sincer': 2238, 'holm': 2239, 'friendli': 2240, 'instal': 2241, 'leagu': 2242, 'doom': 2243, 'clair': 2244, 'sunday': 2245, 'grim': 2246, 'string': 2247, 'defend': 2248, 'blah': 2249, 'aka': 2250, 'junk': 2251, 'examin': 2252, 'hip': 2253, 'lugosi': 2254, 'irish': 2255, 'advis': 2256, 'campi': 2257, 'shake': 2258, 'rachel': 2259, 'varieti': 2260, 'shut': 2261, 'tight': 2262, 'icon': 2263, 'pro': 2264, 'confid': 2265, 'denni': 2266, 'mexican': 2267, 'goal': 2268, 'medic': 2269, 'jaw': 2270, 'sullivan': 2271, 'directli': 2272, 'attach': 2273, 'sentenc': 2274, 'prior': 2275, 'dean': 2276, 'truck': 2277, 'sarah': 2278, 'terrorist': 2279, 'vietnam': 2280, 'courag': 2281, 'legendari': 2282, 'breast': 2283, 'bourn': 2284, 'duke': 2285, 'split': 2286, 'un': 2287, 'yell': 2288, 'donald': 2289, 'nose': 2290, 'proceed': 2291, 'entri': 2292, 'behav': 2293, 'hong': 2294, 'stolen': 2295, 'forth': 2296, 'swim': 2297, 'jerk': 2298, 'buri': 2299, 'confess': 2300, 'gather': 2301, 'concentr': 2302, 'unconvinc': 2303, 'everywher': 2304, 'borrow': 2305, 'lifetim': 2306, 'crush': 2307, 'turkey': 2308, 'california': 2309, 'julia': 2310, 'pan': 2311, 'deliveri': 2312, 'spite': 2313, 'lip': 2314, 'quest': 2315, 'proud': 2316, 'reward': 2317, 'hoffman': 2318, 'freeman': 2319, 'offici': 2320, 'downright': 2321, 'flight': 2322, 'china': 2323, 'sink': 2324, 'sir': 2325, 'jail': 2326, 'betray': 2327, 'lazi': 2328, 'jon': 2329, 'notori': 2330, 'inept': 2331, 'worthwhil': 2332, 'fade': 2333, 'encourag': 2334, 'fabul': 2335, 'retard': 2336, 'branagh': 2337, 'bag': 2338, 'imageri': 2339, 'storm': 2340, 'cousin': 2341, 'teeth': 2342, 'lisa': 2343, 'relev': 2344, 'shower': 2345, 'bell': 2346, 'survivor': 2347, 'susan': 2348, 'trade': 2349, 'facial': 2350, 'bride': 2351, 'tremend': 2352, 'stab': 2353, 'alright': 2354, 'summari': 2355, 'finger': 2356, 'shark': 2357, 'mexico': 2358, 'hugh': 2359, 'quirki': 2360, 'toler': 2361, 'hyster': 2362, 'bitter': 2363, 'blown': 2364, 'pose': 2365, 'ha': 2366, 'von': 2367, 'scheme': 2368, 'ron': 2369, 'afterward': 2370, 'christ': 2371, 'address': 2372, 'bone': 2373, 'larri': 2374, 'cruel': 2375, 'ned': 2376, 'pursu': 2377, 'beg': 2378, 'screw': 2379, 'traci': 2380, 'swear': 2381, 'distinct': 2382, 'feed': 2383, 'tour': 2384, 'thumb': 2385, 'snake': 2386, 'raw': 2387, 'mechan': 2388, 'photo': 2389, 'stomach': 2390, 'occas': 2391, 'obscur': 2392, 'chair': 2393, 'argument': 2394, 'chain': 2395, 'southern': 2396, 'sidney': 2397, 'heavili': 2398, 'holiday': 2399, 'hardi': 2400, 'resist': 2401, 'necessarili': 2402, 'render': 2403, 'cabin': 2404, 'gruesom': 2405, 'satan': 2406, 'philip': 2407, 'understood': 2408, 'racist': 2409, 'indulg': 2410, 'india': 2411, 'midnight': 2412, 'outfit': 2413, 'integr': 2414, 'forgot': 2415, 'tongu': 2416, 'fourth': 2417, 'stalk': 2418, 'pregnant': 2419, 'belov': 2420, 'lay': 2421, 'obnoxi': 2422, '17': 2423, 'deeper': 2424, 'restor': 2425, 'slapstick': 2426, 'magazin': 2427, 'inhabit': 2428, 'ticket': 2429, 'carol': 2430, 'garden': 2431, 'shoe': 2432, 'devot': 2433, 'lincoln': 2434, 'incid': 2435, 'brad': 2436, 'disbelief': 2437, 'maria': 2438, 'benefit': 2439, 'guarante': 2440, 'anticip': 2441, 'elizabeth': 2442, 'divorc': 2443, 'underground': 2444, 'lili': 2445, 'sandler': 2446, 'bbc': 2447, 'mildli': 2448, 'cring': 2449, 'amazingli': 2450, 'explod': 2451, 'slave': 2452, 'capit': 2453, 'creation': 2454, 'greater': 2455, 'princip': 2456, 'halfway': 2457, 'extraordinari': 2458, 'introduct': 2459, 'lesli': 2460, 'funnier': 2461, 'transfer': 2462, 'punish': 2463, 'overwhelm': 2464, 'enhanc': 2465, 'extent': 2466, 'tap': 2467, 'advantag': 2468, 'wreck': 2469, 'text': 2470, 'lo': 2471, 'lane': 2472, 'east': 2473, 'deliber': 2474, 'error': 2475, 'horrif': 2476, 'preview': 2477, 'dynam': 2478, 'plant': 2479, 'jessica': 2480, 'vacat': 2481, 'sophist': 2482, '2000': 2483, 'vincent': 2484, 'homosexu': 2485, 'ensu': 2486, 'basi': 2487, 'appli': 2488, 'miscast': 2489, 'miller': 2490, 'extend': 2491, 'spoken': 2492, 'bollywood': 2493, 'elev': 2494, 'steel': 2495, 'measur': 2496, 'sleazi': 2497, 'mansion': 2498, 'uncomfort': 2499, 'reed': 2500, 'via': 2501, 'alter': 2502, 'hippi': 2503, 'beer': 2504, 'breathtak': 2505, 'daili': 2506, 'overact': 2507, 'blair': 2508, 'savag': 2509, 'melt': 2510, 'mous': 2511, 'assign': 2512, 'stanley': 2513, 'goofi': 2514, 'fix': 2515, 'conceiv': 2516, 'dentist': 2517, 'cathol': 2518, 'sacrific': 2519, 'everyday': 2520, 'succe': 2521, 'properli': 2522, 'inspector': 2523, 'carpent': 2524, 'nowaday': 2525, 'subsequ': 2526, 'burt': 2527, 'oppos': 2528, 'neck': 2529, 'massacr': 2530, 'circl': 2531, 'block': 2532, 'laura': 2533, 'access': 2534, 'concert': 2535, 'lesser': 2536, 'pool': 2537, 'grey': 2538, 'fallen': 2539, 'mob': 2540, 'seagal': 2541, 'fay': 2542, 'portrait': 2543, 'christi': 2544, 'isol': 2545, 'react': 2546, 'relax': 2547, 'usa': 2548, 'chees': 2549, 'competit': 2550, 'jewish': 2551, 'sinist': 2552, 'jake': 2553, 'suitabl': 2554, 'lyric': 2555, '2006': 2556, 'nine': 2557, 'chop': 2558, 'immens': 2559, 'nonetheless': 2560, 'appal': 2561, 'ironi': 2562, 'spiritu': 2563, 'creep': 2564, 'stink': 2565, 'navi': 2566, 'shirt': 2567, 'showcas': 2568, 'franchis': 2569, 'sold': 2570, 'rage': 2571, 'needless': 2572, 'reduc': 2573, 'nut': 2574, 'adopt': 2575, 'spring': 2576, 'luci': 2577, 'retir': 2578, 'user': 2579, 'asham': 2580, 'jay': 2581, 'bath': 2582, 'per': 2583, 'stanwyck': 2584, 'zone': 2585, 'digit': 2586, 'nurs': 2587, 'uninspir': 2588, 'bulli': 2589, '2001': 2590, 'laid': 2591, 'upper': 2592, 'oddli': 2593, 'sutherland': 2594, 'amongst': 2595, '1940': 2596, 'illustr': 2597, 'broadcast': 2598, 'baker': 2599, 'fulfil': 2600, 'stylish': 2601, 'brando': 2602, 'aspir': 2603, 'disguis': 2604, 'throat': 2605, 'neighborhood': 2606, 'em': 2607, 'thief': 2608, 'impli': 2609, 'pride': 2610, 'wanna': 2611, '18': 2612, 'wwii': 2613, 'endear': 2614, 'nobl': 2615, 'pound': 2616, 'tens': 2617, 'diseas': 2618, '16': 2619, 'cinematograph': 2620, 'coher': 2621, 'albeit': 2622, 'shift': 2623, 'prop': 2624, 'bett': 2625, 'distribut': 2626, 'dawn': 2627, 'shoulder': 2628, 'dinner': 2629, 'bo': 2630, 'rochest': 2631, 'knife': 2632, 'forti': 2633, 'shout': 2634, 'snow': 2635, 'function': 2636, 'contract': 2637, 'surf': 2638, 'poignant': 2639, 'rebel': 2640, 'matthau': 2641, 'silenc': 2642, 'wash': 2643, 'proof': 2644, 'derek': 2645, 'widmark': 2646, 'instinct': 2647, 'height': 2648, 'heat': 2649, 'henc': 2650, 'internet': 2651, 'eeri': 2652, 'cannib': 2653, 'cancel': 2654, 'duti': 2655, 'chuck': 2656, 'horrend': 2657, 'silver': 2658, 'mindless': 2659, 'reunion': 2660, 'elvira': 2661, 'mill': 2662, 'repetit': 2663, 'neat': 2664, 'greatli': 2665, 'premier': 2666, 'incoher': 2667, 'alik': 2668, 'etern': 2669, 'glori': 2670, 'musician': 2671, 'torn': 2672, 'absorb': 2673, 'elvi': 2674, 'pie': 2675, 'spielberg': 2676, 'innov': 2677, 'horrifi': 2678, 'blank': 2679, 'announc': 2680, 'wealthi': 2681, 'itali': 2682, 'bang': 2683, 'homag': 2684, 'crisi': 2685, 'britain': 2686, 'infam': 2687, 'trite': 2688, 'lovabl': 2689, 'diamond': 2690, 'racism': 2691, 'burton': 2692, 'redempt': 2693, 'fbi': 2694, 'precis': 2695, 'nelson': 2696, 'ensembl': 2697, 'dedic': 2698, 'parallel': 2699, 'wilder': 2700, 'happili': 2701, 'flop': 2702, 'pat': 2703, 'hammer': 2704, 'resolut': 2705, 'helen': 2706, 'chaplin': 2707, 'streisand': 2708, 'oil': 2709, 'broke': 2710, 'mar': 2711, 'plastic': 2712, 'triumph': 2713, 'st': 2714, 'disagre': 2715, 'carter': 2716, 'factori': 2717, 'conclud': 2718, 'cube': 2719, 'climb': 2720, 'bush': 2721, 'row': 2722, 'rocket': 2723, 'chuckl': 2724, 'own': 2725, 'weight': 2726, 'fighter': 2727, 'march': 2728, 'vega': 2729, 'luca': 2730, 'boot': 2731, 'lust': 2732, 'unforgett': 2733, 'spare': 2734, 'sensibl': 2735, 'dump': 2736, 'mst3k': 2737, 'wherea': 2738, 'meaning': 2739, 'dane': 2740, 'thug': 2741, 'kurt': 2742, 'enorm': 2743, 'adequ': 2744, 'butt': 2745, 'brand': 2746, 'fifti': 2747, 'threat': 2748, 'karloff': 2749, 'engin': 2750, 'caricatur': 2751, 'difficulti': 2752, 'bobbi': 2753, 'dear': 2754, 'stress': 2755, 'arnold': 2756, 'rap': 2757, 'ralph': 2758, 'flynn': 2759, 'fest': 2760, 'arrog': 2761, 'polish': 2762, 'ego': 2763, 'barri': 2764, 'homeless': 2765, 'secretari': 2766, 'elabor': 2767, 'swing': 2768, 'journalist': 2769, 'hamlet': 2770, 'conspiraci': 2771, 'puppet': 2772, 'fanci': 2773, 'arrang': 2774, 'float': 2775, 'induc': 2776, 'unbear': 2777, 'resort': 2778, 'spike': 2779, 'grate': 2780, 'simpson': 2781, 'tool': 2782, 'basement': 2783, 'choreograph': 2784, 'cruis': 2785, 'guilt': 2786, 'phillip': 2787, 'tribut': 2788, 'pig': 2789, 'exercis': 2790, 'boll': 2791, 'muppet': 2792, 'tower': 2793, 'editor': 2794, 'babe': 2795, '24': 2796, 'ward': 2797, 'file': 2798, 'scarecrow': 2799, 'document': 2800, 'layer': 2801, 'stan': 2802, 'item': 2803, 'toilet': 2804, 'korean': 2805, 'ham': 2806, 'medium': 2807, 'fianc': 2808, 'puzzl': 2809, 'slip': 2810, 'superfici': 2811, 'persona': 2812, 'assur': 2813, 'doc': 2814, 'territori': 2815, 'librari': 2816, 'philosoph': 2817, 'transit': 2818, 'inexplic': 2819, 'minim': 2820, 'catherin': 2821, 'denzel': 2822, 'spark': 2823, 'glover': 2824, 'larger': 2825, 'slaughter': 2826, 'portion': 2827, 'orient': 2828, 'sneak': 2829, 'ban': 2830, 'boredom': 2831, 'financi': 2832, 'walken': 2833, 'wolf': 2834, 'shi': 2835, 'owe': 2836, 'jet': 2837, 'curti': 2838, 'jeremi': 2839, 'pg': 2840, 'dorothi': 2841, 'ambigu': 2842, 'profound': 2843, 'metaphor': 2844, 'multi': 2845, 'eleph': 2846, 'hudson': 2847, 'backdrop': 2848, 'whale': 2849, 'cusack': 2850, 'implaus': 2851, '2005': 2852, 'union': 2853, 'ultra': 2854, 'stiff': 2855, 'rave': 2856, 'elsewher': 2857, 'hack': 2858, 'viru': 2859, 'birthday': 2860, 'notion': 2861, 'gadget': 2862, '1st': 2863, 'distanc': 2864, 'afford': 2865, 'canada': 2866, 'hawk': 2867, 'pad': 2868, 'newspap': 2869, 'disc': 2870, 'poison': 2871, 'deriv': 2872, 'squar': 2873, 'bibl': 2874, 'lloyd': 2875, 'eastwood': 2876, 'urg': 2877, 'slight': 2878, 'reader': 2879, 'eva': 2880, 'superhero': 2881, 'restaur': 2882, 'health': 2883, 'spread': 2884, 'cure': 2885, 'charisma': 2886, 'sadist': 2887, 'montag': 2888, 'huh': 2889, 'essenc': 2890, 'button': 2891, 'drown': 2892, 'skit': 2893, 'heston': 2894, 'maniac': 2895, 'lab': 2896, 'fetch': 2897, 'peak': 2898, 'estat': 2899, 'companion': 2900, 'invest': 2901, 'gradual': 2902, 'muslim': 2903, 'scoobi': 2904, 'dealt': 2905, 'godfath': 2906, 'ritter': 2907, 'kane': 2908, 'gothic': 2909, 'servant': 2910, 'tea': 2911, 'cup': 2912, 'alli': 2913, 'subtleti': 2914, 'countless': 2915, 'miik': 2916, 'charismat': 2917, 'elect': 2918, 'electr': 2919, 'salli': 2920, 'heroic': 2921, 'briefli': 2922, 'iii': 2923, 'nuanc': 2924, 'bud': 2925, 'wannab': 2926, 'neil': 2927, 'ingredi': 2928, 'reel': 2929, 'toss': 2930, 'grandmoth': 2931, 'admittedli': 2932, 'tender': 2933, 'resourc': 2934, 'cole': 2935, 'pauli': 2936, 'gate': 2937, 'stronger': 2938, 'pit': 2939, 'mild': 2940, 'shall': 2941, 'label': 2942, 'mafia': 2943, 'poverti': 2944, 'kubrick': 2945, 'punk': 2946, 'dawson': 2947, 'carrey': 2948, 'reev': 2949, 'stood': 2950, 'bakshi': 2951, 'ian': 2952, 'easier': 2953, 'updat': 2954, 'useless': 2955, 'smash': 2956, 'terri': 2957, 'outcom': 2958, 'assault': 2959, 'smooth': 2960, 'astair': 2961, 'fond': 2962, 'cardboard': 2963, 'tag': 2964, 'cox': 2965, 'burst': 2966, 'qualifi': 2967, 'coincid': 2968, 'fist': 2969, 'exchang': 2970, 'samurai': 2971, 'rex': 2972, 'resolv': 2973, 'vulner': 2974, 'sketch': 2975, 'melodramat': 2976, 'divers': 2977, '2002': 2978, 'vari': 2979, 'increasingli': 2980, 'insert': 2981, 'tame': 2982, 'scratch': 2983, 'luckili': 2984, 'templ': 2985, 'conveni': 2986, 'brillianc': 2987, 'suspend': 2988, 'blast': 2989, 'be': 2990, 'reynold': 2991, 'pin': 2992, 'hamilton': 2993, 'meat': 2994, 'jami': 2995, 'matthew': 2996, 'strictli': 2997, 'farm': 2998, 'nuclear': 2999, 'gotta': 3000, 'fisher': 3001, 'ambiti': 3002, 'seventi': 3003, 'walker': 3004, 'soprano': 3005, 'coach': 3006, 'struck': 3007, 'clock': 3008, 'worthless': 3009, 'cave': 3010, 'kudo': 3011, 'joey': 3012, 'revers': 3013, 'butcher': 3014, 'convolut': 3015, 'monk': 3016, 'closet': 3017, 'spooki': 3018, 'timeless': 3019, 'instantli': 3020, 'discoveri': 3021, 'empir': 3022, 'recreat': 3023, 'ninja': 3024, 'eccentr': 3025, 'grasp': 3026, 'brosnan': 3027, 'cliff': 3028, 'inconsist': 3029, 'sloppi': 3030, 'selfish': 3031, 'evok': 3032, 'miracl': 3033, 'declar': 3034, 'bleak': 3035, 'mitchel': 3036, 'importantli': 3037, 'clown': 3038, 'fifteen': 3039, 'gray': 3040, 'wipe': 3041, 'partli': 3042, 'norman': 3043, 'communist': 3044, 'seller': 3045, 'eighti': 3046, 'sidekick': 3047, 'pal': 3048, 'australia': 3049, 'debat': 3050, 'superbl': 3051, 'farc': 3052, 'lifestyl': 3053, 'destin': 3054, 'cheek': 3055, 'aforement': 3056, 'piano': 3057, 'psychiatrist': 3058, '45': 3059, 'chew': 3060, 'ho': 3061, 'stoog': 3062, 'enthusiast': 3063, 'websit': 3064, 'seed': 3065, 'flawless': 3066, 'pressur': 3067, 'abc': 3068, 'slice': 3069, 'regardless': 3070, 'akshay': 3071, 'directori': 3072, 'wick': 3073, 'dire': 3074, 'drivel': 3075, 'bash': 3076, 'splatter': 3077, 'emili': 3078, 'incompet': 3079, 'anni': 3080, 'wrestl': 3081, 'kitchen': 3082, 'dash': 3083, 'soviet': 3084, 'jar': 3085, 'suppli': 3086, 'mann': 3087, 'artifici': 3088, 'increas': 3089, 'duo': 3090, 'seduc': 3091, 'distant': 3092, 'chapter': 3093, 'glow': 3094, 'beaten': 3095, 'curios': 3096, 'helicopt': 3097, 'cia': 3098, 'doo': 3099, 'prize': 3100, 'lou': 3101, 'flower': 3102, 'judi': 3103, 'ken': 3104, 'pleasantli': 3105, 'dave': 3106, 'boil': 3107, 'cameron': 3108, 'cagney': 3109, 'recov': 3110, 'blob': 3111, 'panic': 3112, 'combat': 3113, 'perri': 3114, 'francisco': 3115, 'favour': 3116, 'glenn': 3117, 'splendid': 3118, 'hop': 3119, 'laurel': 3120, 'turner': 3121, 'ranger': 3122, 'craven': 3123, 'eleg': 3124, 'web': 3125, 'ellen': 3126, 'drunken': 3127, 'psychot': 3128, 'craig': 3129, 'goldberg': 3130, 'philosophi': 3131, 'gentl': 3132, 'ruth': 3133, 'rid': 3134, 'slightest': 3135, 'gandhi': 3136, 'flip': 3137, '20th': 3138, 'falk': 3139, 'alexand': 3140, 'graduat': 3141, 'modesti': 3142, 'greek': 3143, 'hatr': 3144, 'shortli': 3145, 'plausibl': 3146, 'wizard': 3147, 'min': 3148, 'fx': 3149, 'fund': 3150, 'lend': 3151, 'manhattan': 3152, 'preciou': 3153, 'unpleas': 3154, 'dracula': 3155, 'jealou': 3156, 'tall': 3157, 'ocean': 3158, 'we': 3159, 'knight': 3160, 'legal': 3161, 'holi': 3162, 'felix': 3163, 'futurist': 3164, 'harm': 3165, 'digniti': 3166, 'bless': 3167, 'forbidden': 3168, 'thread': 3169, 'mock': 3170, 'nod': 3171, 'ami': 3172, 'tank': 3173, 'childish': 3174, 'scientif': 3175, 'explicit': 3176, 'reviv': 3177, 'giallo': 3178, 'overdon': 3179, 'elderli': 3180, 'fever': 3181, '2004': 3182, 'margaret': 3183, 'eve': 3184, 'unwatch': 3185, 'mel': 3186, 'yesterday': 3187, 'repeatedli': 3188, 'awe': 3189, '99': 3190, 'thick': 3191, 'torment': 3192, 'pirat': 3193, 'awaken': 3194, 'broad': 3195, 'nerv': 3196, 'verhoeven': 3197, 'ambit': 3198, 'royal': 3199, 'bin': 3200, 'uniform': 3201, 'griffith': 3202, 'automat': 3203, 'ah': 3204, 'timothi': 3205, 'rivet': 3206, 'absenc': 3207, 'politician': 3208, 'launch': 3209, 'kay': 3210, 'lean': 3211, 'acclaim': 3212, 'roman': 3213, 'publish': 3214, 'eas': 3215, 'romero': 3216, 'custom': 3217, 'stiller': 3218, 'homicid': 3219, 'wallac': 3220, 'foul': 3221, 'purpl': 3222, 'pulp': 3223, 'warren': 3224, 'stinker': 3225, 'crook': 3226, 'darker': 3227, 'transport': 3228, 'sunshin': 3229, 'bathroom': 3230, 'tomato': 3231, 'termin': 3232, 'gabriel': 3233, 'pierc': 3234, 'phrase': 3235, 'antic': 3236, 'viciou': 3237, 'revolutionari': 3238, 'marin': 3239, 'kenneth': 3240, 'horrid': 3241, 'pray': 3242, 'packag': 3243, 'sixti': 3244, 'saint': 3245, 'album': 3246, 'ought': 3247, 'contrari': 3248, 'rambo': 3249, 'brazil': 3250, 'hollow': 3251, 'prom': 3252, 'choreographi': 3253, 'donna': 3254, 'q': 3255, 'li': 3256, 'coloni': 3257, 'evolv': 3258, 'awak': 3259, 'juvenil': 3260, '2003': 3261, 'eyr': 3262, 'karen': 3263, 'boast': 3264, 'overr': 3265, 'defi': 3266, 'stole': 3267, 'candid': 3268, 'option': 3269, 'blade': 3270, 'dose': 3271, 'ramon': 3272, 'ireland': 3273, 'nerd': 3274, 'kapoor': 3275, 'conserv': 3276, 'mildr': 3277, 'twelv': 3278, 'mummi': 3279, 'beatti': 3280, 'flame': 3281, 'astonish': 3282, 'collabor': 3283, 'fulci': 3284, 'global': 3285, 'confirm': 3286, 'trio': 3287, 'jazz': 3288, 'protest': 3289, 'natali': 3290, 'funer': 3291, 'kirk': 3292, 'detract': 3293, 'altman': 3294, 'tommi': 3295, 'bull': 3296, 'yellow': 3297, 'blake': 3298, 'nicholson': 3299, 'whip': 3300, 'shade': 3301, 'enterpris': 3302, 'mystic': 3303, 'destini': 3304, 'racial': 3305, 'bottl': 3306, 'delici': 3307, 'leap': 3308, 'spit': 3309, 'audio': 3310, 'fonda': 3311, 'merci': 3312, 'altogeth': 3313, 'pseudo': 3314, 'inherit': 3315, 'swedish': 3316, 'vivid': 3317, 'meaningless': 3318, 'harder': 3319, 'adolesc': 3320, 'todd': 3321, 'threw': 3322, 'enchant': 3323, 'staff': 3324, 'neo': 3325, 'bedroom': 3326, 'visibl': 3327, 'reunit': 3328, 'popcorn': 3329, 'kennedi': 3330, 'tip': 3331, 'befriend': 3332, 'moodi': 3333, 'suspici': 3334, 'madonna': 3335, 'crocodil': 3336, 'uneven': 3337, 'fanat': 3338, 'edi': 3339, 'jew': 3340, 'synopsi': 3341, 'wire': 3342, 'bust': 3343, 'await': 3344, 'respond': 3345, 'reserv': 3346, 'atlanti': 3347, 'voight': 3348, 'ruthless': 3349, 'exhibit': 3350, 'lawrenc': 3351, 'roommat': 3352, 'lemmon': 3353, 'decor': 3354, 'leonard': 3355, 'abysm': 3356, 'garner': 3357, 'incident': 3358, 'unsettl': 3359, 'bold': 3360, 'dimens': 3361, 'chao': 3362, 'rural': 3363, '2007': 3364, 'bradi': 3365, 'bargain': 3366, 'clint': 3367, 'clumsi': 3368, 'ventur': 3369, 'centr': 3370, 'carl': 3371, 'audit': 3372, 'voyag': 3373, 'palma': 3374, 'holli': 3375, 'immigr': 3376, 'imperson': 3377, 'humili': 3378, 'wealth': 3379, 'mall': 3380, 'trail': 3381, 'echo': 3382, 'nearbi': 3383, 'hart': 3384, 'poetic': 3385, 'neglect': 3386, 'cuba': 3387, 'characterist': 3388, 'tiger': 3389, 'cari': 3390, 'lit': 3391, 'acknowledg': 3392, 'cd': 3393, 'versu': 3394, 'timon': 3395, 'ant': 3396, 'troop': 3397, 'elimin': 3398, 'daddi': 3399, '2nd': 3400, 'mistaken': 3401, 'infect': 3402, 'domest': 3403, 'marshal': 3404, 'pun': 3405, 'celluloid': 3406, 'saga': 3407, 'homer': 3408, 'paus': 3409, 'prejudic': 3410, 'mickey': 3411, 'solo': 3412, 'collaps': 3413, 'repuls': 3414, 'jeffrey': 3415, '1996': 3416, 'equip': 3417, 'apolog': 3418, 'tribe': 3419, 'hbo': 3420, 'harvey': 3421, 'undoubtedli': 3422, 'inan': 3423, 'inappropri': 3424, 'cake': 3425, 'coat': 3426, 'leon': 3427, 'ginger': 3428, 'gear': 3429, 'chest': 3430, 'coffe': 3431, 'promin': 3432, 'assembl': 3433, 'sore': 3434, 'milk': 3435, 'olivi': 3436, 'interrupt': 3437, 'pant': 3438, 'pen': 3439, 'florida': 3440, 'colonel': 3441, 'humbl': 3442, 'trace': 3443, 'airplan': 3444, 'consum': 3445, 'institut': 3446, 'furthermor': 3447, 'primari': 3448, 'instant': 3449, 'embrac': 3450, 'jenni': 3451, 'devast': 3452, 'highest': 3453, 'retain': 3454, 'colleagu': 3455, 'pot': 3456, 'maggi': 3457, 'exot': 3458, 'brooklyn': 3459, 'aveng': 3460, 'solut': 3461, 'vulgar': 3462, 'polanski': 3463, 'illog': 3464, 'poke': 3465, 'cope': 3466, 'seduct': 3467, 'outer': 3468, 'wive': 3469, 'linda': 3470, 'ya': 3471, 'smaller': 3472, 'dutch': 3473, 'gender': 3474, 'rick': 3475, 'dian': 3476, 'strain': 3477, '3rd': 3478, 'descend': 3479, 'disabl': 3480, 'sale': 3481, 'bowl': 3482, '1999': 3483, 'principl': 3484, 'godzilla': 3485, 'yard': 3486, 'bubbl': 3487, 'dud': 3488, 'cue': 3489, 'devoid': 3490, 'mixtur': 3491, 'vast': 3492, 'blatant': 3493, 'scope': 3494, 'beneath': 3495, 'gloriou': 3496, 'lol': 3497, 'predecessor': 3498, 'secondli': 3499, 'glamor': 3500, 'inferior': 3501, 'hal': 3502, 'primarili': 3503, 'rabbit': 3504, 'gundam': 3505, 'dive': 3506, 'streep': 3507, 'casual': 3508, 'talki': 3509, 'domino': 3510, 'alert': 3511, 'simplist': 3512, 'myer': 3513, 'pearl': 3514, 'shelf': 3515, 'hideou': 3516, 'countrysid': 3517, 'museum': 3518, 'senseless': 3519, 'z': 3520, 'arab': 3521, 'alfr': 3522, 'trademark': 3523, 'invas': 3524, 'et': 3525, 'aggress': 3526, 'grinch': 3527, 'disjoint': 3528, 'breed': 3529, 'shirley': 3530, 'april': 3531, 'garbo': 3532, 'stir': 3533, 'stack': 3534, 'vanish': 3535, 'sh': 3536, 'maci': 3537, 'applaud': 3538, 'defens': 3539, 'mail': 3540, 'khan': 3541, 'unhappi': 3542, 'disgrac': 3543, 'hopeless': 3544, 'rendit': 3545, 'hardcor': 3546, 'mayor': 3547, 'robberi': 3548, 'boom': 3549, 'acid': 3550, 'slide': 3551, 'oz': 3552, 'stellar': 3553, 'robinson': 3554, 'obtain': 3555, 'experiment': 3556, 'loyal': 3557, 'illeg': 3558, 'uwe': 3559, 'rifl': 3560, 'tempt': 3561, 'emphasi': 3562, 'wont': 3563, 'blew': 3564, 'diana': 3565, 'recruit': 3566, 'span': 3567, 'craze': 3568, 'amanda': 3569, 'soccer': 3570, 'grandfath': 3571, 'dismiss': 3572, 'scroog': 3573, 'berlin': 3574, 'counter': 3575, 'dicken': 3576, 'spider': 3577, 'psychic': 3578, 'fri': 3579, 'topless': 3580, 'tenant': 3581, 'declin': 3582, 'incomprehens': 3583, 'hartley': 3584, 'intim': 3585, 'sympath': 3586, 'wet': 3587, 'goer': 3588, 'resurrect': 3589, 'bitch': 3590, 'lumet': 3591, 'sibl': 3592, 'ration': 3593, 'justin': 3594, 'shed': 3595, 'riot': 3596, 'niro': 3597, 'ethnic': 3598, 'faster': 3599, 'porno': 3600, 'revolt': 3601, 'parad': 3602, 'woo': 3603, 'shaw': 3604, 'trashi': 3605, 'hopper': 3606, 'enlighten': 3607, 'biographi': 3608, 'mario': 3609, 'partial': 3610, 'eager': 3611, 'slick': 3612, 'jonathan': 3613, 'wheel': 3614, 'region': 3615, 'worm': 3616, 'ensur': 3617, 'unreal': 3618, 'patriot': 3619, 'steam': 3620, 'weakest': 3621, 'honesti': 3622, 'ballet': 3623, 'feminist': 3624, 'dealer': 3625, 'nephew': 3626, '00': 3627, 'andr': 3628, 'immort': 3629, 'choru': 3630, 'gap': 3631, 'rider': 3632, 'lena': 3633, 'farmer': 3634, 'commend': 3635, 'hesit': 3636, 'wendi': 3637, 'prequel': 3638, 'mutant': 3639, 'confin': 3640, 'psychopath': 3641, 'safeti': 3642, 'charlott': 3643, 'repress': 3644, 'blunt': 3645, 'macarthur': 3646, 'properti': 3647, 'vice': 3648, 'sandra': 3649, 'franco': 3650, 'victori': 3651, 'nostalg': 3652, 'owen': 3653, 'snap': 3654, 'util': 3655, 'kingdom': 3656, 'sappi': 3657, 'wore': 3658, 'morri': 3659, 'skull': 3660, 'composit': 3661, 'hung': 3662, 'similarli': 3663, 'leo': 3664, 'speci': 3665, 'strand': 3666, 'drum': 3667, 'heartbreak': 3668, 'recycl': 3669, 'acquir': 3670, 'campbel': 3671, 'despair': 3672, 'rambl': 3673, 'bow': 3674, 'rope': 3675, 'repli': 3676, 'emperor': 3677, 'cg': 3678, 'rocki': 3679, 'bumbl': 3680, 'compass': 3681, 'hyde': 3682, 'miseri': 3683, 'bonu': 3684, 'thru': 3685, 'nervou': 3686, 'tail': 3687, 'compens': 3688, 'pattern': 3689, 'exit': 3690, 'deed': 3691, 'montana': 3692, 'valuabl': 3693, 'farrel': 3694, 'drain': 3695, 'bergman': 3696, 'kyle': 3697, 'snl': 3698, 'latin': 3699, 'whoopi': 3700, 'dust': 3701, 'dalton': 3702, '1972': 3703, 'del': 3704, 'tad': 3705, 'radic': 3706, 'percept': 3707, 'mistress': 3708, 'martian': 3709, 'carradin': 3710, 'bleed': 3711, 'gal': 3712, 'pour': 3713, 'roth': 3714, 'romp': 3715, 'da': 3716, 'gimmick': 3717, 'downhil': 3718, 'olli': 3719, 'chess': 3720, 'contempl': 3721, 'tonight': 3722, 'wacki': 3723, 'slug': 3724, 'orson': 3725, 'oppress': 3726, 'airport': 3727, '35': 3728, 'rapist': 3729, 'rotten': 3730, 'arc': 3731, 'banal': 3732, 'shelley': 3733, 'dazzl': 3734, 'pursuit': 3735, 'tackl': 3736, 'slash': 3737, 'preach': 3738, 'attorney': 3739, 'tooth': 3740, 'champion': 3741, 'paltrow': 3742, 'heal': 3743, 'unpredict': 3744, 'taught': 3745, '1983': 3746, 'stilt': 3747, 'edgar': 3748, 'pervert': 3749, 'belt': 3750, 'pervers': 3751, 'arguabl': 3752, 'mislead': 3753, 'programm': 3754, 'melodi': 3755, 'plight': 3756, 'mesmer': 3757, 'vocal': 3758, 'tiresom': 3759, 'cleverli': 3760, 'duval': 3761, 'gambl': 3762, 'sensat': 3763, 'orang': 3764, 'virginia': 3765, 'bela': 3766, 'conneri': 3767, 'poem': 3768, 'uplift': 3769, 'franki': 3770, 'raymond': 3771, 'graham': 3772, 'closest': 3773, 'rubi': 3774, 'employe': 3775, 'maid': 3776, 'marti': 3777, 'chicken': 3778, 'vengeanc': 3779, 'passeng': 3780, 'dixon': 3781, 'bay': 3782, 'convincingli': 3783, 'inject': 3784, 'paranoia': 3785, 'swallow': 3786, 'secretli': 3787, 'calm': 3788, 'giggl': 3789, 'whine': 3790, 'volum': 3791, 'gerard': 3792, 'profan': 3793, 'amitabh': 3794, 'extens': 3795, 'engross': 3796, 'numb': 3797, 'outing': 3798, 'quarter': 3799, 'climact': 3800, '1968': 3801, 'yawn': 3802, 'abraham': 3803, 'lundgren': 3804, 'scottish': 3805, 'suffic': 3806, 'monologu': 3807, 'clone': 3808, 'habit': 3809, 'pokemon': 3810, 'crystal': 3811, 'iran': 3812, 'tube': 3813, 'sirk': 3814, 'mute': 3815, 'nichola': 3816, 'im': 3817, 'backward': 3818, 'trend': 3819, 'meander': 3820, 'abort': 3821, 'dispos': 3822, 'ethan': 3823, 'linger': 3824, 'lowest': 3825, 'franci': 3826, 'richardson': 3827, 'fed': 3828, 'surpass': 3829, 'grotesqu': 3830, 'taxi': 3831, 'underst': 3832, 'poetri': 3833, 'profess': 3834, 'bend': 3835, 'frankenstein': 3836, 'plod': 3837, 'earl': 3838, 'expand': 3839, 'chicago': 3840, 'austen': 3841, 'spock': 3842, 'junior': 3843, 'septemb': 3844, 'simplic': 3845, 'spoke': 3846, 'nostalgia': 3847, 'rant': 3848, 'eugen': 3849, 'household': 3850, 'stallon': 3851, 'compliment': 3852, 'econom': 3853, 'greedi': 3854, 'instrument': 3855, 'sue': 3856, 'descent': 3857, 'hum': 3858, 'literatur': 3859, 'rubber': 3860, 'lure': 3861, 'cannon': 3862, 'muddl': 3863, 'tourist': 3864, 'mundan': 3865, 'dysfunct': 3866, 'waitress': 3867, 'der': 3868, 'myth': 3869, 'catchi': 3870, 'alongsid': 3871, 'june': 3872, 'mankind': 3873, 'dement': 3874, 'louis': 3875, 'insur': 3876, 'omen': 3877, 'dictat': 3878, 'deaf': 3879, 'duck': 3880, 'irrelev': 3881, 'occupi': 3882, 'eaten': 3883, 'stale': 3884, 'furi': 3885, 'randi': 3886, 'sissi': 3887, 'mortal': 3888, 'phantom': 3889, 'cent': 3890, 'carel': 3891, 'crucial': 3892, 'firstli': 3893, 'phoni': 3894, 'lang': 3895, 'molli': 3896, 'equival': 3897, 'flee': 3898, 'hello': 3899, 'recognit': 3900, 'coast': 3901, 'damon': 3902, 'bacal': 3903, 'recognis': 3904, 'map': 3905, 'heel': 3906, 'freez': 3907, 'newli': 3908, 'ashley': 3909, 'bump': 3910, 'dreari': 3911, 'labor': 3912, 'distinguish': 3913, 'bike': 3914, 'drake': 3915, 'likewis': 3916, 'blackmail': 3917, 'loyalti': 3918, '1973': 3919, 'rooney': 3920, 'cyborg': 3921, 'onlin': 3922, 'damm': 3923, 'wisdom': 3924, 'grayson': 3925, 'daisi': 3926, 'biko': 3927, 'rude': 3928, 'reign': 3929, 'antwon': 3930, 'lengthi': 3931, 'buffalo': 3932, 'twilight': 3933, 'unorigin': 3934, 'exposur': 3935, 'proce': 3936, 'butler': 3937, 'pink': 3938, 'analysi': 3939, 'keith': 3940, 'basketbal': 3941, 'prey': 3942, 'approv': 3943, 'nineti': 3944, 'worn': 3945, 'sailor': 3946, 'emphas': 3947, 'incorpor': 3948, 'barrymor': 3949, 'tunnel': 3950, 'baddi': 3951, 'vein': 3952, 'startl': 3953, 'ridden': 3954, 'chronicl': 3955, 'inher': 3956, 'provoc': 3957, 'boxer': 3958, 'interior': 3959, 'attribut': 3960, 'walsh': 3961, 'mormon': 3962, 'unrel': 3963, 'predat': 3964, 'millionair': 3965, 'hypnot': 3966, 'simmon': 3967, 'undeni': 3968, 'improvis': 3969, 'condemn': 3970, 'underli': 3971, 'meg': 3972, 'fleet': 3973, 'othello': 3974, 'carla': 3975, 'barrel': 3976, 'stalker': 3977, 'degrad': 3978, 'mighti': 3979, 'indiffer': 3980, 'meyer': 3981, 'nicol': 3982, 'er': 3983, 'bunni': 3984, 'belushi': 3985, 'drift': 3986, 'elm': 3987, 'substitut': 3988, 'julian': 3989, 'robbin': 3990, 'palac': 3991, 'warmth': 3992, 'roof': 3993, 'unawar': 3994, 'nyc': 3995, 'priceless': 3996, 'mtv': 3997, 'vital': 3998, 'disord': 3999, 'watson': 4000, 'exquisit': 4001, 'firm': 4002, 'errol': 4003, 'dolph': 4004, 'shove': 4005, 'lampoon': 4006, 'hay': 4007, 'reid': 4008, 'enthusiasm': 4009, 'agenda': 4010, 'novak': 4011, 'alison': 4012, 'rukh': 4013, 'edgi': 4014, 'greed': 4015, 'alarm': 4016, 'marion': 4017, '3d': 4018, 'minimum': 4019, 'preserv': 4020, 'showdown': 4021, 'sergeant': 4022, 'orlean': 4023, 'gestur': 4024, 'randomli': 4025, 'unleash': 4026, 'ponder': 4027, '13th': 4028, 'glanc': 4029, 'what': 4030, 'coup': 4031, 'eastern': 4032, 'peril': 4033, 'simultan': 4034, 'peck': 4035, 'drip': 4036, 'pamela': 4037, 'iraq': 4038, 'thompson': 4039, 'testament': 4040, 'session': 4041, 'campaign': 4042, 'angela': 4043, 'valentin': 4044, 'spain': 4045, 'israel': 4046, 'distort': 4047, 'championship': 4048, 'profit': 4049, 'crown': 4050, 'nun': 4051, 'cassidi': 4052, 'petti': 4053, '1933': 4054, 'beatl': 4055, 'zizek': 4056, 'travesti': 4057, 'fido': 4058, 'crow': 4059, 'stake': 4060, 'valley': 4061, 'climat': 4062, 'crawl': 4063, 'sabrina': 4064, 'wig': 4065, 'exposit': 4066, 'represent': 4067, 'contradict': 4068, 'scotland': 4069, 'realm': 4070, 'gentleman': 4071, '1984': 4072, 'restrain': 4073, 'brenda': 4074, 'han': 4075, 'cooki': 4076, 'perpetu': 4077, 'empathi': 4078, 'bro': 4079, 'miyazaki': 4080, 'calib': 4081, 'rout': 4082, 'regist': 4083, 'shootout': 4084, 'din': 4085, 'buster': 4086, 'quinn': 4087, 'stroke': 4088, 'reson': 4089, 'unimagin': 4090, 'jan': 4091, 'cream': 4092, 'mon': 4093, 'kurosawa': 4094, 'meryl': 4095, 'shoddi': 4096, 'monoton': 4097, 'derang': 4098, 'femm': 4099, 'shaki': 4100, 'dana': 4101, 'passabl': 4102, 'unseen': 4103, 'spacey': 4104, '1987': 4105, 'baldwin': 4106, 'cloud': 4107, 'crawford': 4108, 'painter': 4109, 'compromis': 4110, 'wax': 4111, 'josh': 4112, 'pretens': 4113, 'censor': 4114, 'sucker': 4115, 'unsatisfi': 4116, 'distress': 4117, 'mclaglen': 4118, 'darren': 4119, 'abomin': 4120, 'ross': 4121, 'geek': 4122, 'demis': 4123, 'businessman': 4124, 'stargat': 4125, 'perceiv': 4126, 'tacki': 4127, 'absent': 4128, 'sammi': 4129, 'fuller': 4130, 'pole': 4131, 'delic': 4132, 'warrant': 4133, 'soderbergh': 4134, 'greg': 4135, '1997': 4136, 'ustinov': 4137, 'traumat': 4138, 'wholli': 4139, 'deniro': 4140, 'exclus': 4141, 'valid': 4142, 'fog': 4143, 'nathan': 4144, 'deceas': 4145, 'judgment': 4146, 'reluct': 4147, 'polici': 4148, 'uncov': 4149, 'austin': 4150, 'dee': 4151, 'sid': 4152, 'furiou': 4153, 'verbal': 4154, 'unravel': 4155, 'norm': 4156, 'clash': 4157, 'click': 4158, 'expedit': 4159, 'kumar': 4160, '1993': 4161, 'accuraci': 4162, 'seal': 4163, 'primit': 4164, 'tech': 4165, 'fenc': 4166, 'correctli': 4167, 'tarantino': 4168, 'jewel': 4169, 'antonioni': 4170, 'anchor': 4171, 'ritual': 4172, '1995': 4173, 'sand': 4174, '3000': 4175, 'sheet': 4176, 'hallucin': 4177, 'logan': 4178, 'enforc': 4179, 'patienc': 4180, 'alec': 4181, 'sunni': 4182, 'mode': 4183, 'fabric': 4184, 'slam': 4185, 'trait': 4186, 'seldom': 4187, 'wretch': 4188, 'crippl': 4189, 'wang': 4190, 'unfair': 4191, 'debt': 4192, 'sustain': 4193, 'clerk': 4194, 'fart': 4195, '1971': 4196, 'behold': 4197, 'conduct': 4198, 'shanghai': 4199, 'temper': 4200, 'joel': 4201, 'malon': 4202, 'roller': 4203, 'tax': 4204, 'fought': 4205, 'bake': 4206, 'dreck': 4207, 'pocket': 4208, 'nicola': 4209, 'murray': 4210, '2008': 4211, 'darn': 4212, 'vanc': 4213, 'grief': 4214, 'helpless': 4215, 'pete': 4216, 'stuart': 4217, 'preposter': 4218, 'exhaust': 4219, 'tactic': 4220, 'penni': 4221, 'scriptwrit': 4222, 'bias': 4223, 'critiqu': 4224, 'clau': 4225, 'sweep': 4226, 'phil': 4227, 'shell': 4228, 'rita': 4229, 'outlin': 4230, 'stark': 4231, 'fundament': 4232, 'robber': 4233, 'soup': 4234, 'legaci': 4235, 'guitar': 4236, 'squad': 4237, 'preston': 4238, 'despis': 4239, 'runner': 4240, 'canyon': 4241, 'divid': 4242, 'conscious': 4243, 'technicolor': 4244, 'isabel': 4245, 'schedul': 4246, 'bridget': 4247, 'boyl': 4248, 'alicia': 4249, 'sniper': 4250, 'palanc': 4251, 'consciou': 4252, 'unexpectedli': 4253, 'downey': 4254, 'lacklust': 4255, 'alley': 4256, 'jacket': 4257, 'delv': 4258, 'cigarett': 4259, 'marc': 4260, 'propos': 4261, 'passag': 4262, 'gregori': 4263, 'sentinel': 4264, 'agenc': 4265, 'inabl': 4266, 'russia': 4267, 'culmin': 4268, 'bloom': 4269, 'drove': 4270, 'rear': 4271, 'kansa': 4272, 'connor': 4273, 'implic': 4274, 'jodi': 4275, 'rehash': 4276, 'restrict': 4277, 'sugar': 4278, 'flair': 4279, 'invad': 4280, 'liberti': 4281, 'newman': 4282, 'vomit': 4283, 'rod': 4284, 'sharon': 4285, 'foxx': 4286, 'behaviour': 4287, 'karl': 4288, 'arrow': 4289, 'awhil': 4290, 'cap': 4291, 'chainsaw': 4292, 'vet': 4293, 'improb': 4294, 'pale': 4295, 'rehears': 4296, 'bacon': 4297, 'ladder': 4298, 'feat': 4299, 'asylum': 4300, 'wrench': 4301, '1936': 4302, 'lush': 4303, 'aesthet': 4304, 'horn': 4305, 'rampag': 4306, '22': 4307, 'delet': 4308, 'tendenc': 4309, 'mccoy': 4310, 'kolchak': 4311, 'tripe': 4312, 'yeti': 4313, 'loneli': 4314, 'thunderbird': 4315, 'el': 4316, 'hungri': 4317, 'weav': 4318, 'lurk': 4319, 'rhythm': 4320, '1988': 4321, 'newcom': 4322, 'minu': 4323, 'aristocrat': 4324, 'paramount': 4325, 'rumor': 4326, 'stream': 4327, 'basing': 4328, '1920': 4329, 'fright': 4330, 'wagner': 4331, 'prank': 4332, 'elit': 4333, 'filler': 4334, 'wildli': 4335, 'suffici': 4336, 'coaster': 4337, 'financ': 4338, 'conscienc': 4339, 'spice': 4340, 'paradis': 4341, '1978': 4342, 'sung': 4343, 'hulk': 4344, 'tasteless': 4345, 'visitor': 4346, 'amazon': 4347, 'hackney': 4348, 'suspicion': 4349, 'shortcom': 4350, 'underneath': 4351, 'tomorrow': 4352, 'globe': 4353, 'scoop': 4354, '19th': 4355, 'atroc': 4356, 'inmat': 4357, 'chamberlain': 4358, 'beverli': 4359, 'entranc': 4360, 'paxton': 4361, 'bread': 4362, '75': 4363, 'smell': 4364, 'naughti': 4365, 'iv': 4366, 'rub': 4367, '1939': 4368, 'literari': 4369, 'couch': 4370, 'worship': 4371, 'curli': 4372, 'impos': 4373, 'ingeni': 4374, 'counterpart': 4375, 'en': 4376, 'dirt': 4377, 'penn': 4378, 'hopkin': 4379, 'quietli': 4380, 'straightforward': 4381, 'lectur': 4382, 'grudg': 4383, 'wwe': 4384, 'secondari': 4385, 'leigh': 4386, 'ram': 4387, 'heist': 4388, 'choppi': 4389, 'minist': 4390, 'springer': 4391, 'teas': 4392, 'cancer': 4393, '1989': 4394, 'tierney': 4395, 'immers': 4396, 'recogniz': 4397, 'standout': 4398, 'brit': 4399, 'posey': 4400, 'abrupt': 4401, 'chavez': 4402, 'policeman': 4403, 'entitl': 4404, 'enthral': 4405, 'injuri': 4406, 'net': 4407, 'heartfelt': 4408, 'misguid': 4409, 'skeptic': 4410, 'transcend': 4411, 'watcher': 4412, 'bernard': 4413, 'yearn': 4414, '1986': 4415, 'geni': 4416, 'moreov': 4417, 'cattl': 4418, 'missil': 4419, 'morbid': 4420, 'quaid': 4421, 'ratso': 4422, 'ace': 4423, 'duel': 4424, 'nolan': 4425, 'lindsay': 4426, 'variat': 4427, 'esther': 4428, 'sassi': 4429, 'sublim': 4430, 'laurenc': 4431, 'convert': 4432, 'clan': 4433, 'attenborough': 4434, 'nemesi': 4435, 'youngest': 4436, 'egg': 4437, 'graini': 4438, 'buzz': 4439, 'diari': 4440, 'out': 4441, 'obstacl': 4442, 'rosemari': 4443, 'bye': 4444, 'cruelti': 4445, 'unexplain': 4446, 'bean': 4447, 'mytholog': 4448, 'enabl': 4449, 'kitti': 4450, 'puppi': 4451, 'spiral': 4452, 'artsi': 4453, 'brood': 4454, 'uncut': 4455, 'reliabl': 4456, '1979': 4457, 'moder': 4458, 'kidman': 4459, 'facil': 4460, 'setup': 4461, 'hk': 4462, 'dont': 4463, 'tyler': 4464, 'vader': 4465, 'poe': 4466, 'hopelessli': 4467, 'steadi': 4468, 'characteris': 4469, 'carlito': 4470, 'grin': 4471, 'sweat': 4472, 'martha': 4473, 'hammi': 4474, 'weather': 4475, 'decept': 4476, 'baffl': 4477, 'effici': 4478, 'patricia': 4479, 'disastr': 4480, 'spontan': 4481, 'gina': 4482, 'fuel': 4483, 'athlet': 4484, 'narrow': 4485, 'despic': 4486, 'oblig': 4487, 'clueless': 4488, 'bronson': 4489, 'hain': 4490, 'underworld': 4491, 'acquaint': 4492, 'exterior': 4493, 'preming': 4494, 'heap': 4495, 'bounc': 4496, 'gillian': 4497, 'kline': 4498, 'bewar': 4499, 'niec': 4500, 'christin': 4501, 'brendan': 4502, '1969': 4503, 'tick': 4504, 'dilemma': 4505, 'housewif': 4506, 'shatter': 4507, 'mermaid': 4508, 'headach': 4509, 'uh': 4510, 'insipid': 4511, 'trigger': 4512, 'virtu': 4513, 'goof': 4514, 'fontain': 4515, 'loath': 4516, '73': 4517, '19': 4518, 'injur': 4519, 'dandi': 4520, 'rome': 4521, 'enlist': 4522, 'outlaw': 4523, 'suprem': 4524, 'candl': 4525, 'preachi': 4526, 'loi': 4527, 'sleepwalk': 4528, 'astound': 4529, 'analyz': 4530, 'taboo': 4531, 'angst': 4532, 'circu': 4533, 'viewpoint': 4534, 'harmless': 4535, 'renaiss': 4536, 'mayhem': 4537, 'sooner': 4538, 'biker': 4539, 'lester': 4540, 'scar': 4541, 'hepburn': 4542, 'bent': 4543, 'spade': 4544, 'steer': 4545, 'ariel': 4546, 'hokey': 4547, 'redund': 4548, 'tripl': 4549, 'glorifi': 4550, 'oldest': 4551, 'filth': 4552, 'overlong': 4553, 'camcord': 4554, 'claustrophob': 4555, 'phenomenon': 4556, 'amor': 4557, 'fluff': 4558, 'immatur': 4559, 'contempt': 4560, 'dish': 4561, 'slimi': 4562, 'idol': 4563, 'macho': 4564, 'stimul': 4565, 'whore': 4566, 'boston': 4567, 'sox': 4568, 'salt': 4569, 'corbett': 4570, 'hostag': 4571, 'gere': 4572, 'dismal': 4573, 'hooker': 4574, 'surgeri': 4575, 'zoom': 4576, 'intric': 4577, 'ebert': 4578, 'cassavet': 4579, 'stair': 4580, 'scorses': 4581, 'guin': 4582, 'foolish': 4583, 'obligatori': 4584, 'messi': 4585, 'assert': 4586, 'cow': 4587, 'down': 4588, 'naschi': 4589, 'joker': 4590, 'alvin': 4591, 'dwarf': 4592, 'gasp': 4593, 'flashi': 4594, 'mount': 4595, 'keen': 4596, 'strongest': 4597, 'spinal': 4598, 'conquer': 4599, 'flag': 4600, 'spree': 4601, 'harold': 4602, '1981': 4603, 'flirt': 4604, 'trivia': 4605, 'muscl': 4606, 'rhyme': 4607, 'astronaut': 4608, 'margin': 4609, 'widescreen': 4610, 'zane': 4611, 'shred': 4612, 'mutual': 4613, 'antagonist': 4614, 'transplant': 4615, 'perman': 4616, 'schlock': 4617, 'gabl': 4618, 'faint': 4619, 'frantic': 4620, 'shield': 4621, 'preced': 4622, 'radiat': 4623, '1976': 4624, 'cohen': 4625, 'fascist': 4626, 'cush': 4627, 'beard': 4628, 'proport': 4629, 'remad': 4630, 'corman': 4631, 'nolt': 4632, 'neurot': 4633, 'departur': 4634, 'sensual': 4635, '95': 4636, 'ritchi': 4637, 'mobil': 4638, 'someday': 4639, 'barn': 4640, 'brush': 4641, 'discern': 4642, 'persuad': 4643, 'raj': 4644, 'scandal': 4645, 'mol': 4646, 'carey': 4647, 'resum': 4648, 'inflict': 4649, '28': 4650, 'strive': 4651, 'triangl': 4652, 'boob': 4653, 'repris': 4654, 'bitten': 4655, 'archiv': 4656, '1945': 4657, 'instruct': 4658, 'flock': 4659, 'claud': 4660, 'vaniti': 4661, 'www': 4662, 'interestingli': 4663, 'divin': 4664, 'info': 4665, 'hara': 4666, 'wield': 4667, 'danish': 4668, 'fishburn': 4669, 'deer': 4670, 'off': 4671, 'bachelor': 4672, 'aborigin': 4673, 'neill': 4674, 'kathryn': 4675, 'heartwarm': 4676, 'dim': 4677, 'melissa': 4678, 'undermin': 4679, 'ish': 4680, 'submit': 4681, 'cb': 4682, 'proclaim': 4683, 'timberlak': 4684, 'bate': 4685, 'fragil': 4686, 'pacif': 4687, 'senior': 4688, 'colin': 4689, 'rot': 4690, 'frontier': 4691, 'hapless': 4692, 'casino': 4693, 'dame': 4694, 'vibrant': 4695, 'hug': 4696, 'recit': 4697, 'anton': 4698, 'earnest': 4699, 'europa': 4700, 'harrison': 4701, 'cher': 4702, 'pixar': 4703, 'cliffhang': 4704, 'banter': 4705, 'miracul': 4706, 'prophet': 4707, 'dylan': 4708, 'luka': 4709, 'traffic': 4710, 'helm': 4711, 'carlo': 4712, 'artwork': 4713, 'biblic': 4714, 'loretta': 4715, 'jade': 4716, 'hilar': 4717, 'pickford': 4718, 'wendigo': 4719, 'clad': 4720, 'cycl': 4721, 'axe': 4722, 'mobster': 4723, 'parson': 4724, 'vile': 4725, 'electron': 4726, 'marlon': 4727, 'pc': 4728, 'venom': 4729, 'shepherd': 4730, 'orphan': 4731, 'bikini': 4732, 'nope': 4733, 'eli': 4734, 'static': 4735, 'mathieu': 4736, 'illus': 4737, 'articl': 4738, 'cerebr': 4739, 'seedi': 4740, 'akin': 4741, 'misfortun': 4742, 'feast': 4743, 'razor': 4744, 'choke': 4745, 'jo': 4746, 'winchest': 4747, 'flavor': 4748, 'wardrob': 4749, 'antholog': 4750, 'legitim': 4751, 'estrang': 4752, 'holocaust': 4753, 'token': 4754, 'aris': 4755, 'northern': 4756, 'lui': 4757, 'milo': 4758, 'redneck': 4759, 'lucil': 4760, 'toronto': 4761, 'http': 4762, 'vanessa': 4763, 'isra': 4764, 'sicken': 4765, 'breakfast': 4766, 'bondag': 4767, 'trier': 4768, 'alexandr': 4769, 'foil': 4770, 'mason': 4771, 'blatantli': 4772, 'uma': 4773, 'jordan': 4774, 'rooki': 4775, 'comprehend': 4776, 'highway': 4777, 'wrestler': 4778, 'leather': 4779, 'linear': 4780, 'swept': 4781, 'affleck': 4782, 'disregard': 4783, 'glare': 4784, 'turd': 4785, 'clinic': 4786, 'oppon': 4787, 'frog': 4788, 'tack': 4789, 'ideolog': 4790, 'nightclub': 4791, 'peer': 4792, 'shorter': 4793, 'huston': 4794, 'howl': 4795, 'gilbert': 4796, 'abund': 4797, 'gunga': 4798, 'magician': 4799, 'dudley': 4800, 'feminin': 4801, 'styliz': 4802, 'charlton': 4803, 'smack': 4804, 'retriev': 4805, 'deem': 4806, 'psych': 4807, 'audrey': 4808, 'outdat': 4809, 'cartoonish': 4810, 'ceremoni': 4811, 'fifth': 4812, 'boyer': 4813, 'knightley': 4814, 'potter': 4815, 'braveheart': 4816, 'durat': 4817, 'toe': 4818, '1994': 4819, 'compris': 4820, 'breakdown': 4821, 'phenomen': 4822, 'greet': 4823, 'cemeteri': 4824, 'salman': 4825, 'plate': 4826, 'corn': 4827, 'lavish': 4828, 'bogu': 4829, 'cuban': 4830, 'moe': 4831, 'senat': 4832, 'sleaz': 4833, 'spine': 4834, 'chip': 4835, 'spawn': 4836, 'whack': 4837, 'summar': 4838, 'deliver': 4839, 'mitch': 4840, 'energet': 4841, '4th': 4842, 'evolut': 4843, 'collector': 4844, 'client': 4845, 'snatch': 4846, 'newer': 4847, 'conrad': 4848, '1991': 4849, 'bastard': 4850, 'lighter': 4851, 'tara': 4852, 'monument': 4853, 'uniformli': 4854, 'boo': 4855, 'einstein': 4856, 'btw': 4857, 'goldsworthi': 4858, 'lifeless': 4859, 'alleg': 4860, 'replay': 4861, 'kazan': 4862, 'ol': 4863, 'spectacl': 4864, 'capot': 4865, 'kent': 4866, 'ie': 4867, 'wtf': 4868, 'inaccuraci': 4869, 'constitut': 4870, 'signal': 4871, 'jam': 4872, 'bori': 4873, 'outright': 4874, 'healthi': 4875, 'neatli': 4876, 'eleven': 4877, '1977': 4878, 'evelyn': 4879, 'sorrow': 4880, 'fluid': 4881, 'nina': 4882, 'randolph': 4883, '1974': 4884, 'historian': 4885, 'trauma': 4886, 'cecil': 4887, 'appl': 4888, 'undertak': 4889, 'firmli': 4890, 'jule': 4891, 'clara': 4892, 'bulk': 4893, 'gilliam': 4894, 'armstrong': 4895, 'jedi': 4896, 'liu': 4897, 'occup': 4898, 'creek': 4899, 'judd': 4900, 'embark': 4901, 'luxuri': 4902, 'undead': 4903, 'pronounc': 4904, 'mcqueen': 4905, 'lex': 4906, 'belli': 4907, 'jare': 4908, 'aussi': 4909, 'decapit': 4910, 'meal': 4911, 'bait': 4912, 'truman': 4913, 'unattract': 4914, 'antonio': 4915, 'inaccur': 4916, 'forgiven': 4917, 'propheci': 4918, 'miniseri': 4919, 'ash': 4920, 'conan': 4921, 'id': 4922, 'blur': 4923, 'walt': 4924, 'goldblum': 4925, 'vain': 4926, 'mum': 4927, 'vignett': 4928, 'pioneer': 4929, 'cape': 4930, 'congratul': 4931, 'groan': 4932, 'knee': 4933, 'inclus': 4934, 'unsuspect': 4935, 'roar': 4936, 'curtain': 4937, 'paula': 4938, 'pepper': 4939, 'relentless': 4940, 'sacrif': 4941, 'spray': 4942, 'abound': 4943, 'comb': 4944, 'carmen': 4945, '1985': 4946, 'lanc': 4947, 'sidewalk': 4948, 'galaxi': 4949, 'kiddi': 4950, 'rosario': 4951, 'porter': 4952, 'miami': 4953, 'poker': 4954, 'palm': 4955, 'genet': 4956, 'basket': 4957, 'lauren': 4958, 'tokyo': 4959, 'fruit': 4960, 'subtli': 4961, 'bsg': 4962, 'comprehens': 4963, '21st': 4964, 'dubiou': 4965, 'substanti': 4966, 'jill': 4967, 'growth': 4968, 'optimist': 4969, 'hostil': 4970, 'scariest': 4971, 'masterson': 4972, 'handicap': 4973, 'reincarn': 4974, 'macabr': 4975, 'profil': 4976, 'omin': 4977, 'rapidli': 4978, 'casper': 4979, 'frontal': 4980, 'spill': 4981, 'bravo': 4982, 'weaker': 4983, 'sparkl': 4984, 'orchestr': 4985, 'verg': 4986, 'playboy': 4987, 'ingrid': 4988, 'modest': 4989, 'asset': 4990, 'hackman': 4991, 'evan': 4992, 'ghetto': 4993, 'motorcycl': 4994, 'monti': 4995, 'weari': 4996, 'bach': 4997, 'vastli': 4998, 'epitom': 4999}\n"
     ]
    }
   ],
   "source": [
    "print(word_dict)"
   ]
  },
  {
   "cell_type": "markdown",
   "metadata": {},
   "source": [
    "**Question:** What are the five most frequently appearing (tokenized) words in the training set? Does it makes sense that these words appear frequently in the training set?"
   ]
  },
  {
   "cell_type": "markdown",
   "metadata": {},
   "source": [
    "**Answer:**\n",
    "\n",
    "The five most common words are \"movie, film, one, like, time\". This makes sense as they are words referring to the topic of review, a movie or film, and comparative-clauses. "
   ]
  },
  {
   "cell_type": "code",
   "execution_count": 70,
   "metadata": {},
   "outputs": [
    {
     "name": "stdout",
     "output_type": "stream",
     "text": [
      "['movi', 'film', 'one', 'like', 'time']\n",
      "[51695, 48190, 27741, 22799, 16191]\n"
     ]
    }
   ],
   "source": [
    "# TODO: Use this space to determine the five most frequently appearing words in the training set.\n",
    "print(list(word_dict.keys())[0:5])\n",
    "print(freq[0:5])"
   ]
  },
  {
   "cell_type": "markdown",
   "metadata": {},
   "source": [
    "### Save `word_dict`\n",
    "\n",
    "Later on when we construct an endpoint which processes a submitted review we will need to make use of the `word_dict` which we have created. As such, we will save it to a file now for future use."
   ]
  },
  {
   "cell_type": "code",
   "execution_count": 71,
   "metadata": {},
   "outputs": [],
   "source": [
    "data_dir = '../data/pytorch' # The folder we will use for storing data\n",
    "if not os.path.exists(data_dir): # Make sure that the folder exists\n",
    "    os.makedirs(data_dir)"
   ]
  },
  {
   "cell_type": "code",
   "execution_count": 72,
   "metadata": {},
   "outputs": [],
   "source": [
    "with open(os.path.join(data_dir, 'word_dict.pkl'), \"wb\") as f:\n",
    "    pickle.dump(word_dict, f)"
   ]
  },
  {
   "cell_type": "markdown",
   "metadata": {},
   "source": [
    "### Transform the reviews\n",
    "\n",
    "Now that we have our word dictionary which allows us to transform the words appearing in the reviews into integers, it is time to make use of it and convert our reviews to their integer sequence representation, making sure to pad or truncate to a fixed length, which in our case is `500`."
   ]
  },
  {
   "cell_type": "code",
   "execution_count": 73,
   "metadata": {},
   "outputs": [],
   "source": [
    "def convert_and_pad(word_dict, sentence, pad=500):\n",
    "    NOWORD = 0 # We will use 0 to represent the 'no word' category\n",
    "    INFREQ = 1 # and we use 1 to represent the infrequent words, i.e., words not appearing in word_dict\n",
    "    \n",
    "    working_sentence = [NOWORD] * pad\n",
    "    \n",
    "    for word_index, word in enumerate(sentence[:pad]):\n",
    "        if word in word_dict:\n",
    "            working_sentence[word_index] = word_dict[word]\n",
    "        else:\n",
    "            working_sentence[word_index] = INFREQ\n",
    "            \n",
    "    return working_sentence, min(len(sentence), pad)\n",
    "\n",
    "def convert_and_pad_data(word_dict, data, pad=500):\n",
    "    result = []\n",
    "    lengths = []\n",
    "    \n",
    "    for sentence in data:\n",
    "        converted, leng = convert_and_pad(word_dict, sentence, pad)\n",
    "        result.append(converted)\n",
    "        lengths.append(leng)\n",
    "        \n",
    "    return np.array(result), np.array(lengths)"
   ]
  },
  {
   "cell_type": "code",
   "execution_count": 74,
   "metadata": {},
   "outputs": [],
   "source": [
    "train_X, train_X_len = convert_and_pad_data(word_dict, train_X)\n",
    "test_X, test_X_len = convert_and_pad_data(word_dict, test_X)"
   ]
  },
  {
   "cell_type": "markdown",
   "metadata": {},
   "source": [
    "As a quick check to make sure that things are working as intended, check to see what one of the reviews in the training set looks like after having been processeed. Does this look reasonable? What is the length of a review in the training set?"
   ]
  },
  {
   "cell_type": "code",
   "execution_count": 75,
   "metadata": {},
   "outputs": [
    {
     "name": "stdout",
     "output_type": "stream",
     "text": [
      "Padded len:  500\n",
      "Real review len:  226\n",
      "Tokenized review:  [   1   11 2026  468   81 1907  107  772   21  591   28    3   74 3389\n",
      "  855  334 1182   47 1010 3404  423  377   33 3051    1    1   90    3\n",
      " 1907  772   74 2144  745  195   35 1907 2328  717  286 2398    3  203\n",
      "   59 1180   90  309  107  772   29    3   11 1907   28 3244  101  141\n",
      " 2377 1578   89  909 1137 2426   31 2070 1218  132 3424  157 1919   33\n",
      "  449    1 2026 1685  600  647 2711   11  909   18  580 2368    1    4\n",
      "   18  479   61 1907  253    3 2330  376  148  689  574  233  142  148\n",
      "  106  238   62    3   51 1059 4146  341 2193   14   54   59   62  204\n",
      "    3   39   96    1  434 1498   30  104    1  459 2026   40  668   35\n",
      "   16  320    3   22  344  107  772  658  137 2929  312  460 4219  104\n",
      "   16   62   93 1202 2026  194 2070  107  772    9    6 1522  459 2026\n",
      "  315   65   93  136  124 2215  163 2058 4787 1806  768 1012  968  450\n",
      " 1600  265 4640  257  312  970   52 2624 1261 3969  304 1374    3    4\n",
      " 2026  460  484 1526   11 3638   11    1  100  156   14 1055  416  189\n",
      "  881  130  233   90    3 1402    3    1 1048   89  680  600 1337   39\n",
      " 4477 2984  257   18  517  864  658    1    1   18 1236  117  130   11\n",
      "    3  409    0    0    0    0    0    0    0    0    0    0    0    0\n",
      "    0    0    0    0    0    0    0    0    0    0    0    0    0    0\n",
      "    0    0    0    0    0    0    0    0    0    0    0    0    0    0\n",
      "    0    0    0    0    0    0    0    0    0    0    0    0    0    0\n",
      "    0    0    0    0    0    0    0    0    0    0    0    0    0    0\n",
      "    0    0    0    0    0    0    0    0    0    0    0    0    0    0\n",
      "    0    0    0    0    0    0    0    0    0    0    0    0    0    0\n",
      "    0    0    0    0    0    0    0    0    0    0    0    0    0    0\n",
      "    0    0    0    0    0    0    0    0    0    0    0    0    0    0\n",
      "    0    0    0    0    0    0    0    0    0    0    0    0    0    0\n",
      "    0    0    0    0    0    0    0    0    0    0    0    0    0    0\n",
      "    0    0    0    0    0    0    0    0    0    0    0    0    0    0\n",
      "    0    0    0    0    0    0    0    0    0    0    0    0    0    0\n",
      "    0    0    0    0    0    0    0    0    0    0    0    0    0    0\n",
      "    0    0    0    0    0    0    0    0    0    0    0    0    0    0\n",
      "    0    0    0    0    0    0    0    0    0    0    0    0    0    0\n",
      "    0    0    0    0    0    0    0    0    0    0    0    0    0    0\n",
      "    0    0    0    0    0    0    0    0    0    0    0    0    0    0\n",
      "    0    0    0    0    0    0    0    0    0    0    0    0    0    0\n",
      "    0    0    0    0    0    0    0    0    0    0]\n"
     ]
    }
   ],
   "source": [
    "# Use this cell to examine one of the processed reviews to make sure everything is working as intended.\n",
    "print('Padded len: ', len(train_X[100]))\n",
    "print('Real review len: ', train_X_len[100])\n",
    "print('Tokenized review: ',train_X[100])"
   ]
  },
  {
   "cell_type": "markdown",
   "metadata": {},
   "source": [
    "**Question:** In the cells above we use the `preprocess_data` and `convert_and_pad_data` methods to process both the training and testing set. Why or why not might this be a problem?"
   ]
  },
  {
   "cell_type": "markdown",
   "metadata": {},
   "source": [
    "**Answer:**\n",
    "\n",
    "We should apply the same tokenization in both training and testing dataset or the result will not be consistent otherwise. However, we are obtaining the tokenization dict from the training dataset. This can lead to convergence problem if the language used for the reviews includes many relevant new words. Including a routine to check the ratio of words correctly tokenized can be an interesting prospect. "
   ]
  },
  {
   "cell_type": "markdown",
   "metadata": {},
   "source": [
    "## Step 3: Upload the data to S3\n",
    "\n",
    "As in the XGBoost notebook, we will need to upload the training dataset to S3 in order for our training code to access it. For now we will save it locally and we will upload to S3 later on.\n",
    "\n",
    "### Save the processed training dataset locally\n",
    "\n",
    "It is important to note the format of the data that we are saving as we will need to know it when we write the training code. In our case, each row of the dataset has the form `label`, `length`, `review[500]` where `review[500]` is a sequence of `500` integers representing the words in the review."
   ]
  },
  {
   "cell_type": "code",
   "execution_count": 76,
   "metadata": {},
   "outputs": [],
   "source": [
    "import pandas as pd\n",
    "    \n",
    "pd.concat([pd.DataFrame(train_y), pd.DataFrame(train_X_len), pd.DataFrame(train_X)], axis=1) \\\n",
    "        .to_csv(os.path.join(data_dir, 'train.csv'), header=False, index=False)"
   ]
  },
  {
   "cell_type": "markdown",
   "metadata": {},
   "source": [
    "### Uploading the training data\n",
    "\n",
    "\n",
    "Next, we need to upload the training data to the SageMaker default S3 bucket so that we can provide access to it while training our model."
   ]
  },
  {
   "cell_type": "code",
   "execution_count": 77,
   "metadata": {},
   "outputs": [],
   "source": [
    "import sagemaker\n",
    "\n",
    "sagemaker_session = sagemaker.Session()\n",
    "\n",
    "bucket = sagemaker_session.default_bucket()\n",
    "prefix = 'sagemaker/sentiment_rnn'\n",
    "\n",
    "role = sagemaker.get_execution_role()"
   ]
  },
  {
   "cell_type": "code",
   "execution_count": 78,
   "metadata": {},
   "outputs": [],
   "source": [
    "input_data = sagemaker_session.upload_data(path=data_dir, bucket=bucket, key_prefix=prefix)"
   ]
  },
  {
   "cell_type": "markdown",
   "metadata": {},
   "source": [
    "**NOTE:** The cell above uploads the entire contents of our data directory. This includes the `word_dict.pkl` file. This is fortunate as we will need this later on when we create an endpoint that accepts an arbitrary review. For now, we will just take note of the fact that it resides in the data directory (and so also in the S3 training bucket) and that we will need to make sure it gets saved in the model directory."
   ]
  },
  {
   "cell_type": "markdown",
   "metadata": {},
   "source": [
    "## Step 4: Build and Train the PyTorch Model\n",
    "\n",
    "In the XGBoost notebook we discussed what a model is in the SageMaker framework. In particular, a model comprises three objects\n",
    "\n",
    " - Model Artifacts,\n",
    " - Training Code, and\n",
    " - Inference Code,\n",
    " \n",
    "each of which interact with one another. In the XGBoost example we used training and inference code that was provided by Amazon. Here we will still be using containers provided by Amazon with the added benefit of being able to include our own custom code.\n",
    "\n",
    "We will start by implementing our own neural network in PyTorch along with a training script. For the purposes of this project we have provided the necessary model object in the `model.py` file, inside of the `train` folder. You can see the provided implementation by running the cell below."
   ]
  },
  {
   "cell_type": "code",
   "execution_count": 79,
   "metadata": {},
   "outputs": [
    {
     "name": "stdout",
     "output_type": "stream",
     "text": [
      "\u001b[34mimport\u001b[39;49;00m \u001b[04m\u001b[36mtorch.nn\u001b[39;49;00m \u001b[34mas\u001b[39;49;00m \u001b[04m\u001b[36mnn\u001b[39;49;00m\r\n",
      "\r\n",
      "\u001b[34mclass\u001b[39;49;00m \u001b[04m\u001b[32mLSTMClassifier\u001b[39;49;00m(nn.Module):\r\n",
      "    \u001b[33m\"\"\"\u001b[39;49;00m\r\n",
      "\u001b[33m    This is the simple RNN model we will be using to perform Sentiment Analysis.\u001b[39;49;00m\r\n",
      "\u001b[33m    \"\"\"\u001b[39;49;00m\r\n",
      "\r\n",
      "    \u001b[34mdef\u001b[39;49;00m \u001b[32m__init__\u001b[39;49;00m(\u001b[36mself\u001b[39;49;00m, embedding_dim, hidden_dim, vocab_size):\r\n",
      "        \u001b[33m\"\"\"\u001b[39;49;00m\r\n",
      "\u001b[33m        Initialize the model by settingg up the various layers.\u001b[39;49;00m\r\n",
      "\u001b[33m        \"\"\"\u001b[39;49;00m\r\n",
      "        \u001b[36msuper\u001b[39;49;00m(LSTMClassifier, \u001b[36mself\u001b[39;49;00m).\u001b[32m__init__\u001b[39;49;00m()\r\n",
      "\r\n",
      "        \u001b[36mself\u001b[39;49;00m.embedding = nn.Embedding(vocab_size, embedding_dim, padding_idx=\u001b[34m0\u001b[39;49;00m)\r\n",
      "        \u001b[36mself\u001b[39;49;00m.lstm = nn.LSTM(embedding_dim, hidden_dim)\r\n",
      "        \u001b[36mself\u001b[39;49;00m.dense = nn.Linear(in_features=hidden_dim, out_features=\u001b[34m1\u001b[39;49;00m)\r\n",
      "        \u001b[36mself\u001b[39;49;00m.sig = nn.Sigmoid()\r\n",
      "        \r\n",
      "        \u001b[36mself\u001b[39;49;00m.word_dict = \u001b[36mNone\u001b[39;49;00m\r\n",
      "\r\n",
      "    \u001b[34mdef\u001b[39;49;00m \u001b[32mforward\u001b[39;49;00m(\u001b[36mself\u001b[39;49;00m, x):\r\n",
      "        \u001b[33m\"\"\"\u001b[39;49;00m\r\n",
      "\u001b[33m        Perform a forward pass of our model on some input.\u001b[39;49;00m\r\n",
      "\u001b[33m        \"\"\"\u001b[39;49;00m\r\n",
      "        x = x.t()\r\n",
      "        lengths = x[\u001b[34m0\u001b[39;49;00m,:]\r\n",
      "        reviews = x[\u001b[34m1\u001b[39;49;00m:,:]\r\n",
      "        embeds = \u001b[36mself\u001b[39;49;00m.embedding(reviews)\r\n",
      "        lstm_out, _ = \u001b[36mself\u001b[39;49;00m.lstm(embeds)\r\n",
      "        out = \u001b[36mself\u001b[39;49;00m.dense(lstm_out)\r\n",
      "        out = out[lengths - \u001b[34m1\u001b[39;49;00m, \u001b[36mrange\u001b[39;49;00m(\u001b[36mlen\u001b[39;49;00m(lengths))]\r\n",
      "        \u001b[34mreturn\u001b[39;49;00m \u001b[36mself\u001b[39;49;00m.sig(out.squeeze())\r\n"
     ]
    }
   ],
   "source": [
    "!pygmentize train/model.py"
   ]
  },
  {
   "cell_type": "markdown",
   "metadata": {},
   "source": [
    "The important takeaway from the implementation provided is that there are three parameters that we may wish to tweak to improve the performance of our model. These are the embedding dimension, the hidden dimension and the size of the vocabulary. We will likely want to make these parameters configurable in the training script so that if we wish to modify them we do not need to modify the script itself. We will see how to do this later on. To start we will write some of the training code in the notebook so that we can more easily diagnose any issues that arise.\n",
    "\n",
    "First we will load a small portion of the training data set to use as a sample. It would be very time consuming to try and train the model completely in the notebook as we do not have access to a gpu and the compute instance that we are using is not particularly powerful. However, we can work on a small bit of the data to get a feel for how our training script is behaving."
   ]
  },
  {
   "cell_type": "code",
   "execution_count": 80,
   "metadata": {},
   "outputs": [],
   "source": [
    "import torch\n",
    "import torch.utils.data\n",
    "\n",
    "# Read in only the first 250 rows\n",
    "train_sample = pd.read_csv(os.path.join(data_dir, 'train.csv'), header=None, names=None, nrows=250)\n",
    "\n",
    "# Turn the input pandas dataframe into tensors\n",
    "train_sample_y = torch.from_numpy(train_sample[[0]].values).float().squeeze()\n",
    "train_sample_X = torch.from_numpy(train_sample.drop([0], axis=1).values).long()\n",
    "\n",
    "# Build the dataset\n",
    "train_sample_ds = torch.utils.data.TensorDataset(train_sample_X, train_sample_y)\n",
    "# Build the dataloader\n",
    "train_sample_dl = torch.utils.data.DataLoader(train_sample_ds, batch_size=50)"
   ]
  },
  {
   "cell_type": "markdown",
   "metadata": {},
   "source": [
    "### (TODO) Writing the training method\n",
    "\n",
    "Next we need to write the training code itself. This should be very similar to training methods that you have written before to train PyTorch models. We will leave any difficult aspects such as model saving / loading and parameter loading until a little later."
   ]
  },
  {
   "cell_type": "code",
   "execution_count": 81,
   "metadata": {},
   "outputs": [],
   "source": [
    "def train(model, train_loader, epochs, optimizer, loss_fn, device):\n",
    "    for epoch in range(1, epochs + 1):\n",
    "        model.train()\n",
    "        total_loss = 0\n",
    "        for batch in train_loader:         \n",
    "            batch_X, batch_y = batch\n",
    "            \n",
    "            batch_X = batch_X.to(device)\n",
    "            batch_y = batch_y.to(device)\n",
    "            \n",
    "            # TODO: Complete this train method to train the model provided.\n",
    "            # reset grads \n",
    "            optimizer.zero_grad()\n",
    "            out = model(batch_X)\n",
    "            loss = loss_fn(out,batch_y)\n",
    "            loss.backward() # backpropagate\n",
    "            optimizer.step()\n",
    "            \n",
    "            total_loss += loss.data.item()\n",
    "        print(\"Epoch: {}, BCELoss: {}\".format(epoch, total_loss / len(train_loader)))"
   ]
  },
  {
   "cell_type": "markdown",
   "metadata": {},
   "source": [
    "Supposing we have the training method above, we will test that it is working by writing a bit of code in the notebook that executes our training method on the small sample training set that we loaded earlier. The reason for doing this in the notebook is so that we have an opportunity to fix any errors that arise early when they are easier to diagnose."
   ]
  },
  {
   "cell_type": "code",
   "execution_count": 82,
   "metadata": {},
   "outputs": [
    {
     "name": "stdout",
     "output_type": "stream",
     "text": [
      "Epoch: 1, BCELoss: 0.6878589272499085\n",
      "Epoch: 2, BCELoss: 0.6763467192649841\n",
      "Epoch: 3, BCELoss: 0.6654835343360901\n",
      "Epoch: 4, BCELoss: 0.6528649091720581\n",
      "Epoch: 5, BCELoss: 0.6366725921630859\n"
     ]
    }
   ],
   "source": [
    "import torch.optim as optim\n",
    "from train.model import LSTMClassifier\n",
    "\n",
    "device = torch.device(\"cuda\" if torch.cuda.is_available() else \"cpu\")\n",
    "model = LSTMClassifier(32, 100, 5000).to(device)\n",
    "optimizer = optim.Adam(model.parameters())\n",
    "loss_fn = torch.nn.BCELoss()\n",
    "\n",
    "train(model, train_sample_dl, 5, optimizer, loss_fn, device)"
   ]
  },
  {
   "cell_type": "markdown",
   "metadata": {},
   "source": [
    "In order to construct a PyTorch model using SageMaker we must provide SageMaker with a training script. We may optionally include a directory which will be copied to the container and from which our training code will be run. When the training container is executed it will check the uploaded directory (if there is one) for a `requirements.txt` file and install any required Python libraries, after which the training script will be run."
   ]
  },
  {
   "cell_type": "markdown",
   "metadata": {},
   "source": [
    "### (TODO) Training the model\n",
    "\n",
    "When a PyTorch model is constructed in SageMaker, an entry point must be specified. This is the Python file which will be executed when the model is trained. Inside of the `train` directory is a file called `train.py` which has been provided and which contains most of the necessary code to train our model. The only thing that is missing is the implementation of the `train()` method which you wrote earlier in this notebook.\n",
    "\n",
    "**TODO**: Copy the `train()` method written above and paste it into the `train/train.py` file where required.\n",
    "\n",
    "The way that SageMaker passes hyperparameters to the training script is by way of arguments. These arguments can then be parsed and used in the training script. To see how this is done take a look at the provided `train/train.py` file."
   ]
  },
  {
   "cell_type": "code",
   "execution_count": null,
   "metadata": {},
   "outputs": [],
   "source": [
    "from sagemaker.pytorch import PyTorch\n",
    "\n",
    "estimator = PyTorch(entry_point=\"train.py\",\n",
    "                    source_dir=\"train\",\n",
    "                    role=role,\n",
    "                    framework_version='0.4.0',\n",
    "                    train_instance_count=1,\n",
    "                    train_instance_type='ml.p2.xlarge',\n",
    "                    hyperparameters={\n",
    "                        'epochs': 10,\n",
    "                        'hidden_dim': 200,\n",
    "                    })"
   ]
  },
  {
   "cell_type": "code",
   "execution_count": null,
   "metadata": {},
   "outputs": [],
   "source": [
    "estimator.fit({'training': input_data})"
   ]
  },
  {
   "cell_type": "markdown",
   "metadata": {},
   "source": [
    "## Step 5: Testing the model\n",
    "\n",
    "As mentioned at the top of this notebook, we will be testing this model by first deploying it and then sending the testing data to the deployed endpoint. We will do this so that we can make sure that the deployed model is working correctly.\n",
    "\n",
    "## Step 6: Deploy the model for testing\n",
    "\n",
    "Now that we have trained our model, we would like to test it to see how it performs. Currently our model takes input of the form `review_length, review[500]` where `review[500]` is a sequence of `500` integers which describe the words present in the review, encoded using `word_dict`. Fortunately for us, SageMaker provides built-in inference code for models with simple inputs such as this.\n",
    "\n",
    "There is one thing that we need to provide, however, and that is a function which loads the saved model. This function must be called `model_fn()` and takes as its only parameter a path to the directory where the model artifacts are stored. This function must also be present in the python file which we specified as the entry point. In our case the model loading function has been provided and so no changes need to be made.\n",
    "\n",
    "**NOTE**: When the built-in inference code is run it must import the `model_fn()` method from the `train.py` file. This is why the training code is wrapped in a main guard ( ie, `if __name__ == '__main__':` )\n",
    "\n",
    "Since we don't need to change anything in the code that was uploaded during training, we can simply deploy the current model as-is.\n",
    "\n",
    "**NOTE:** When deploying a model you are asking SageMaker to launch an compute instance that will wait for data to be sent to it. As a result, this compute instance will continue to run until *you* shut it down. This is important to know since the cost of a deployed endpoint depends on how long it has been running for.\n",
    "\n",
    "In other words **If you are no longer using a deployed endpoint, shut it down!**\n",
    "\n",
    "**TODO:** Deploy the trained model."
   ]
  },
  {
   "cell_type": "code",
   "execution_count": null,
   "metadata": {},
   "outputs": [],
   "source": [
    "# TODO: Deploy the trained model\n",
    "predictor = estimator.deploy(initial_instance_count=1, instance_type='ml.p2.xlarge')"
   ]
  },
  {
   "cell_type": "markdown",
   "metadata": {},
   "source": [
    "## Step 7 - Use the model for testing\n",
    "\n",
    "Once deployed, we can read in the test data and send it off to our deployed model to get some results. Once we collect all of the results we can determine how accurate our model is."
   ]
  },
  {
   "cell_type": "code",
   "execution_count": null,
   "metadata": {},
   "outputs": [],
   "source": [
    "test_X = pd.concat([pd.DataFrame(test_X_len), pd.DataFrame(test_X)], axis=1)"
   ]
  },
  {
   "cell_type": "code",
   "execution_count": null,
   "metadata": {},
   "outputs": [],
   "source": [
    "# We split the data into chunks and send each chunk seperately, accumulating the results.\n",
    "\n",
    "def predict(data, rows=512):\n",
    "    split_array = np.array_split(data, int(data.shape[0] / float(rows) + 1))\n",
    "    predictions = np.array([])\n",
    "    for array in split_array:\n",
    "        predictions = np.append(predictions, predictor.predict(array))\n",
    "    \n",
    "    return predictions"
   ]
  },
  {
   "cell_type": "code",
   "execution_count": null,
   "metadata": {},
   "outputs": [],
   "source": [
    "predictions = predict(test_X.values)\n",
    "predictions = [round(num) for num in predictions]"
   ]
  },
  {
   "cell_type": "code",
   "execution_count": null,
   "metadata": {},
   "outputs": [],
   "source": [
    "from sklearn.metrics import accuracy_score\n",
    "accuracy_score(test_y, predictions)"
   ]
  },
  {
   "cell_type": "markdown",
   "metadata": {},
   "source": [
    "**Question:** How does this model compare to the XGBoost model you created earlier? Why might these two models perform differently on this dataset? Which do *you* think is better for sentiment analysis?"
   ]
  },
  {
   "cell_type": "markdown",
   "metadata": {},
   "source": [
    "**Answer:**"
   ]
  },
  {
   "cell_type": "markdown",
   "metadata": {},
   "source": [
    "### (TODO) More testing\n",
    "\n",
    "We now have a trained model which has been deployed and which we can send processed reviews to and which returns the predicted sentiment. However, ultimately we would like to be able to send our model an unprocessed review. That is, we would like to send the review itself as a string. For example, suppose we wish to send the following review to our model."
   ]
  },
  {
   "cell_type": "code",
   "execution_count": null,
   "metadata": {},
   "outputs": [],
   "source": [
    "test_review = 'The simplest pleasures in life are the best, and this film is one of them. Combining a rather basic storyline of love and adventure this movie transcends the usual weekend fair with wit and unmitigated charm.'"
   ]
  },
  {
   "cell_type": "markdown",
   "metadata": {},
   "source": [
    "The question we now need to answer is, how do we send this review to our model?\n",
    "\n",
    "Recall in the first section of this notebook we did a bunch of data processing to the IMDb dataset. In particular, we did two specific things to the provided reviews.\n",
    " - Removed any html tags and stemmed the input\n",
    " - Encoded the review as a sequence of integers using `word_dict`\n",
    " \n",
    "In order process the review we will need to repeat these two steps.\n",
    "\n",
    "**TODO**: Using the `review_to_words` and `convert_and_pad` methods from section one, convert `test_review` into a numpy array `test_data` suitable to send to our model. Remember that our model expects input of the form `review_length, review[500]`."
   ]
  },
  {
   "cell_type": "code",
   "execution_count": null,
   "metadata": {},
   "outputs": [],
   "source": [
    "# TODO: Convert test_review into a form usable by the model and save the results in test_data\n",
    "test_data = review_to_words(test_review)\n",
    "test_data = [np.array(convert_and_pad(word_dict, test_data)[0])]"
   ]
  },
  {
   "cell_type": "markdown",
   "metadata": {},
   "source": [
    "Now that we have processed the review, we can send the resulting array to our model to predict the sentiment of the review."
   ]
  },
  {
   "cell_type": "code",
   "execution_count": null,
   "metadata": {},
   "outputs": [],
   "source": [
    "predictor.predict(test_data)"
   ]
  },
  {
   "cell_type": "markdown",
   "metadata": {},
   "source": [
    "Since the return value of our model is close to `1`, we can be certain that the review we submitted is positive."
   ]
  },
  {
   "cell_type": "markdown",
   "metadata": {},
   "source": [
    "### Delete the endpoint\n",
    "\n",
    "Of course, just like in the XGBoost notebook, once we've deployed an endpoint it continues to run until we tell it to shut down. Since we are done using our endpoint for now, we can delete it."
   ]
  },
  {
   "cell_type": "code",
   "execution_count": null,
   "metadata": {},
   "outputs": [],
   "source": [
    "estimator.delete_endpoint()"
   ]
  },
  {
   "cell_type": "markdown",
   "metadata": {},
   "source": [
    "## Step 6 (again) - Deploy the model for the web app\n",
    "\n",
    "Now that we know that our model is working, it's time to create some custom inference code so that we can send the model a review which has not been processed and have it determine the sentiment of the review.\n",
    "\n",
    "As we saw above, by default the estimator which we created, when deployed, will use the entry script and directory which we provided when creating the model. However, since we now wish to accept a string as input and our model expects a processed review, we need to write some custom inference code.\n",
    "\n",
    "We will store the code that we write in the `serve` directory. Provided in this directory is the `model.py` file that we used to construct our model, a `utils.py` file which contains the `review_to_words` and `convert_and_pad` pre-processing functions which we used during the initial data processing, and `predict.py`, the file which will contain our custom inference code. Note also that `requirements.txt` is present which will tell SageMaker what Python libraries are required by our custom inference code.\n",
    "\n",
    "When deploying a PyTorch model in SageMaker, you are expected to provide four functions which the SageMaker inference container will use.\n",
    " - `model_fn`: This function is the same function that we used in the training script and it tells SageMaker how to load our model.\n",
    " - `input_fn`: This function receives the raw serialized input that has been sent to the model's endpoint and its job is to de-serialize and make the input available for the inference code.\n",
    " - `output_fn`: This function takes the output of the inference code and its job is to serialize this output and return it to the caller of the model's endpoint.\n",
    " - `predict_fn`: The heart of the inference script, this is where the actual prediction is done and is the function which you will need to complete.\n",
    "\n",
    "For the simple website that we are constructing during this project, the `input_fn` and `output_fn` methods are relatively straightforward. We only require being able to accept a string as input and we expect to return a single value as output. You might imagine though that in a more complex application the input or output may be image data or some other binary data which would require some effort to serialize.\n",
    "\n",
    "### (TODO) Writing inference code\n",
    "\n",
    "Before writing our custom inference code, we will begin by taking a look at the code which has been provided."
   ]
  },
  {
   "cell_type": "code",
   "execution_count": null,
   "metadata": {},
   "outputs": [],
   "source": [
    "!pygmentize serve/predict.py"
   ]
  },
  {
   "cell_type": "markdown",
   "metadata": {},
   "source": [
    "As mentioned earlier, the `model_fn` method is the same as the one provided in the training code and the `input_fn` and `output_fn` methods are very simple and your task will be to complete the `predict_fn` method. Make sure that you save the completed file as `predict.py` in the `serve` directory.\n",
    "\n",
    "**TODO**: Complete the `predict_fn()` method in the `serve/predict.py` file."
   ]
  },
  {
   "cell_type": "markdown",
   "metadata": {},
   "source": [
    "### Deploying the model\n",
    "\n",
    "Now that the custom inference code has been written, we will create and deploy our model. To begin with, we need to construct a new PyTorchModel object which points to the model artifacts created during training and also points to the inference code that we wish to use. Then we can call the deploy method to launch the deployment container.\n",
    "\n",
    "**NOTE**: The default behaviour for a deployed PyTorch model is to assume that any input passed to the predictor is a `numpy` array. In our case we want to send a string so we need to construct a simple wrapper around the `RealTimePredictor` class to accomodate simple strings. In a more complicated situation you may want to provide a serialization object, for example if you wanted to sent image data."
   ]
  },
  {
   "cell_type": "code",
   "execution_count": null,
   "metadata": {},
   "outputs": [],
   "source": [
    "from sagemaker.predictor import RealTimePredictor\n",
    "from sagemaker.pytorch import PyTorchModel\n",
    "\n",
    "class StringPredictor(RealTimePredictor):\n",
    "    def __init__(self, endpoint_name, sagemaker_session):\n",
    "        super(StringPredictor, self).__init__(endpoint_name, sagemaker_session, content_type='text/plain')\n",
    "\n",
    "model = PyTorchModel(model_data=estimator.model_data,\n",
    "                     role = role,\n",
    "                     framework_version='0.4.0',\n",
    "                     entry_point='predict.py',\n",
    "                     source_dir='serve',\n",
    "                     predictor_cls=StringPredictor)\n",
    "predictor = model.deploy(initial_instance_count=1, instance_type='ml.m4.xlarge')"
   ]
  },
  {
   "cell_type": "markdown",
   "metadata": {},
   "source": [
    "### Testing the model\n",
    "\n",
    "Now that we have deployed our model with the custom inference code, we should test to see if everything is working. Here we test our model by loading the first `250` positive and negative reviews and send them to the endpoint, then collect the results. The reason for only sending some of the data is that the amount of time it takes for our model to process the input and then perform inference is quite long and so testing the entire data set would be prohibitive."
   ]
  },
  {
   "cell_type": "code",
   "execution_count": null,
   "metadata": {},
   "outputs": [],
   "source": [
    "import glob\n",
    "\n",
    "def test_reviews(data_dir='../data/aclImdb', stop=250):\n",
    "    \n",
    "    results = []\n",
    "    ground = []\n",
    "    \n",
    "    # We make sure to test both positive and negative reviews    \n",
    "    for sentiment in ['pos', 'neg']:\n",
    "        \n",
    "        path = os.path.join(data_dir, 'test', sentiment, '*.txt')\n",
    "        files = glob.glob(path)\n",
    "        \n",
    "        files_read = 0\n",
    "        \n",
    "        print('Starting ', sentiment, ' files')\n",
    "        \n",
    "        # Iterate through the files and send them to the predictor\n",
    "        for f in files:\n",
    "            with open(f) as review:\n",
    "                # First, we store the ground truth (was the review positive or negative)\n",
    "                if sentiment == 'pos':\n",
    "                    ground.append(1)\n",
    "                else:\n",
    "                    ground.append(0)\n",
    "                # Read in the review and convert to 'utf-8' for transmission via HTTP\n",
    "                review_input = review.read().encode('utf-8')\n",
    "                # Send the review to the predictor and store the results\n",
    "                results.append(int(predictor.predict(review_input)))\n",
    "                \n",
    "            # Sending reviews to our endpoint one at a time takes a while so we\n",
    "            # only send a small number of reviews\n",
    "            files_read += 1\n",
    "            if files_read == stop:\n",
    "                break\n",
    "            \n",
    "    return ground, results"
   ]
  },
  {
   "cell_type": "code",
   "execution_count": null,
   "metadata": {},
   "outputs": [],
   "source": [
    "ground, results = test_reviews()"
   ]
  },
  {
   "cell_type": "code",
   "execution_count": null,
   "metadata": {},
   "outputs": [],
   "source": [
    "from sklearn.metrics import accuracy_score\n",
    "accuracy_score(ground, results)"
   ]
  },
  {
   "cell_type": "markdown",
   "metadata": {},
   "source": [
    "As an additional test, we can try sending the `test_review` that we looked at earlier."
   ]
  },
  {
   "cell_type": "code",
   "execution_count": null,
   "metadata": {},
   "outputs": [],
   "source": [
    "predictor.predict(test_review)"
   ]
  },
  {
   "cell_type": "markdown",
   "metadata": {},
   "source": [
    "Now that we know our endpoint is working as expected, we can set up the web page that will interact with it. If you don't have time to finish the project now, make sure to skip down to the end of this notebook and shut down your endpoint. You can deploy it again when you come back."
   ]
  },
  {
   "cell_type": "markdown",
   "metadata": {},
   "source": [
    "## Step 7 (again): Use the model for the web app\n",
    "\n",
    "> **TODO:** This entire section and the next contain tasks for you to complete, mostly using the AWS console.\n",
    "\n",
    "So far we have been accessing our model endpoint by constructing a predictor object which uses the endpoint and then just using the predictor object to perform inference. What if we wanted to create a web app which accessed our model? The way things are set up currently makes that not possible since in order to access a SageMaker endpoint the app would first have to authenticate with AWS using an IAM role which included access to SageMaker endpoints. However, there is an easier way! We just need to use some additional AWS services.\n",
    "\n",
    "<img src=\"Web App Diagram.svg\">\n",
    "\n",
    "The diagram above gives an overview of how the various services will work together. On the far right is the model which we trained above and which is deployed using SageMaker. On the far left is our web app that collects a user's movie review, sends it off and expects a positive or negative sentiment in return.\n",
    "\n",
    "In the middle is where some of the magic happens. We will construct a Lambda function, which you can think of as a straightforward Python function that can be executed whenever a specified event occurs. We will give this function permission to send and recieve data from a SageMaker endpoint.\n",
    "\n",
    "Lastly, the method we will use to execute the Lambda function is a new endpoint that we will create using API Gateway. This endpoint will be a url that listens for data to be sent to it. Once it gets some data it will pass that data on to the Lambda function and then return whatever the Lambda function returns. Essentially it will act as an interface that lets our web app communicate with the Lambda function.\n",
    "\n",
    "### Setting up a Lambda function\n",
    "\n",
    "The first thing we are going to do is set up a Lambda function. This Lambda function will be executed whenever our public API has data sent to it. When it is executed it will receive the data, perform any sort of processing that is required, send the data (the review) to the SageMaker endpoint we've created and then return the result.\n",
    "\n",
    "#### Part A: Create an IAM Role for the Lambda function\n",
    "\n",
    "Since we want the Lambda function to call a SageMaker endpoint, we need to make sure that it has permission to do so. To do this, we will construct a role that we can later give the Lambda function.\n",
    "\n",
    "Using the AWS Console, navigate to the **IAM** page and click on **Roles**. Then, click on **Create role**. Make sure that the **AWS service** is the type of trusted entity selected and choose **Lambda** as the service that will use this role, then click **Next: Permissions**.\n",
    "\n",
    "In the search box type `sagemaker` and select the check box next to the **AmazonSageMakerFullAccess** policy. Then, click on **Next: Review**.\n",
    "\n",
    "Lastly, give this role a name. Make sure you use a name that you will remember later on, for example `LambdaSageMakerRole`. Then, click on **Create role**.\n",
    "\n",
    "#### Part B: Create a Lambda function\n",
    "\n",
    "Now it is time to actually create the Lambda function.\n",
    "\n",
    "Using the AWS Console, navigate to the AWS Lambda page and click on **Create a function**. When you get to the next page, make sure that **Author from scratch** is selected. Now, name your Lambda function, using a name that you will remember later on, for example `sentiment_analysis_func`. Make sure that the **Python 3.6** runtime is selected and then choose the role that you created in the previous part. Then, click on **Create Function**.\n",
    "\n",
    "On the next page you will see some information about the Lambda function you've just created. If you scroll down you should see an editor in which you can write the code that will be executed when your Lambda function is triggered. In our example, we will use the code below. \n",
    "\n",
    "```python\n",
    "# We need to use the low-level library to interact with SageMaker since the SageMaker API\n",
    "# is not available natively through Lambda.\n",
    "import boto3\n",
    "\n",
    "def lambda_handler(event, context):\n",
    "\n",
    "    # The SageMaker runtime is what allows us to invoke the endpoint that we've created.\n",
    "    runtime = boto3.Session().client('sagemaker-runtime')\n",
    "\n",
    "    # Now we use the SageMaker runtime to invoke our endpoint, sending the review we were given\n",
    "    response = runtime.invoke_endpoint(EndpointName = '**ENDPOINT NAME HERE**',    # The name of the endpoint we created\n",
    "                                       ContentType = 'text/plain',                 # The data format that is expected\n",
    "                                       Body = event['body'])                       # The actual review\n",
    "\n",
    "    # The response is an HTTP response whose body contains the result of our inference\n",
    "    result = response['Body'].read().decode('utf-8')\n",
    "\n",
    "    return {\n",
    "        'statusCode' : 200,\n",
    "        'headers' : { 'Content-Type' : 'text/plain', 'Access-Control-Allow-Origin' : '*' },\n",
    "        'body' : result\n",
    "    }\n",
    "```\n",
    "\n",
    "Once you have copy and pasted the code above into the Lambda code editor, replace the `**ENDPOINT NAME HERE**` portion with the name of the endpoint that we deployed earlier. You can determine the name of the endpoint using the code cell below."
   ]
  },
  {
   "cell_type": "code",
   "execution_count": null,
   "metadata": {},
   "outputs": [],
   "source": [
    "predictor.endpoint"
   ]
  },
  {
   "cell_type": "markdown",
   "metadata": {},
   "source": [
    "Once you have added the endpoint name to the Lambda function, click on **Save**. Your Lambda function is now up and running. Next we need to create a way for our web app to execute the Lambda function.\n",
    "\n",
    "### Setting up API Gateway\n",
    "\n",
    "Now that our Lambda function is set up, it is time to create a new API using API Gateway that will trigger the Lambda function we have just created.\n",
    "\n",
    "Using AWS Console, navigate to **Amazon API Gateway** and then click on **Get started**.\n",
    "\n",
    "On the next page, make sure that **New API** is selected and give the new api a name, for example, `sentiment_analysis_api`. Then, click on **Create API**.\n",
    "\n",
    "Now we have created an API, however it doesn't currently do anything. What we want it to do is to trigger the Lambda function that we created earlier.\n",
    "\n",
    "Select the **Actions** dropdown menu and click **Create Method**. A new blank method will be created, select its dropdown menu and select **POST**, then click on the check mark beside it.\n",
    "\n",
    "For the integration point, make sure that **Lambda Function** is selected and click on the **Use Lambda Proxy integration**. This option makes sure that the data that is sent to the API is then sent directly to the Lambda function with no processing. It also means that the return value must be a proper response object as it will also not be processed by API Gateway.\n",
    "\n",
    "Type the name of the Lambda function you created earlier into the **Lambda Function** text entry box and then click on **Save**. Click on **OK** in the pop-up box that then appears, giving permission to API Gateway to invoke the Lambda function you created.\n",
    "\n",
    "The last step in creating the API Gateway is to select the **Actions** dropdown and click on **Deploy API**. You will need to create a new Deployment stage and name it anything you like, for example `prod`.\n",
    "\n",
    "You have now successfully set up a public API to access your SageMaker model. Make sure to copy or write down the URL provided to invoke your newly created public API as this will be needed in the next step. This URL can be found at the top of the page, highlighted in blue next to the text **Invoke URL**."
   ]
  },
  {
   "cell_type": "markdown",
   "metadata": {},
   "source": [
    "## Step 4: Deploying our web app\n",
    "\n",
    "Now that we have a publicly available API, we can start using it in a web app. For our purposes, we have provided a simple static html file which can make use of the public api you created earlier.\n",
    "\n",
    "In the `website` folder there should be a file called `index.html`. Download the file to your computer and open that file up in a text editor of your choice. There should be a line which contains **\\*\\*REPLACE WITH PUBLIC API URL\\*\\***. Replace this string with the url that you wrote down in the last step and then save the file.\n",
    "\n",
    "Now, if you open `index.html` on your local computer, your browser will behave as a local web server and you can use the provided site to interact with your SageMaker model.\n",
    "\n",
    "If you'd like to go further, you can host this html file anywhere you'd like, for example using github or hosting a static site on Amazon's S3. Once you have done this you can share the link with anyone you'd like and have them play with it too!\n",
    "\n",
    "> **Important Note** In order for the web app to communicate with the SageMaker endpoint, the endpoint has to actually be deployed and running. This means that you are paying for it. Make sure that the endpoint is running when you want to use the web app but that you shut it down when you don't need it, otherwise you will end up with a surprisingly large AWS bill.\n",
    "\n",
    "**TODO:** Make sure that you include the edited `index.html` file in your project submission."
   ]
  },
  {
   "cell_type": "markdown",
   "metadata": {},
   "source": [
    "Now that your web app is working, trying playing around with it and see how well it works.\n",
    "\n",
    "**Question**: Give an example of a review that you entered into your web app. What was the predicted sentiment of your example review?"
   ]
  },
  {
   "cell_type": "markdown",
   "metadata": {},
   "source": [
    "**Answer:**"
   ]
  },
  {
   "cell_type": "markdown",
   "metadata": {},
   "source": [
    "### Delete the endpoint\n",
    "\n",
    "Remember to always shut down your endpoint if you are no longer using it. You are charged for the length of time that the endpoint is running so if you forget and leave it on you could end up with an unexpectedly large bill."
   ]
  },
  {
   "cell_type": "code",
   "execution_count": null,
   "metadata": {},
   "outputs": [],
   "source": [
    "predictor.delete_endpoint()"
   ]
  },
  {
   "cell_type": "code",
   "execution_count": null,
   "metadata": {},
   "outputs": [],
   "source": []
  }
 ],
 "metadata": {
  "kernelspec": {
   "display_name": "conda_pytorch_p36",
   "language": "python",
   "name": "conda_pytorch_p36"
  },
  "language_info": {
   "codemirror_mode": {
    "name": "ipython",
    "version": 3
   },
   "file_extension": ".py",
   "mimetype": "text/x-python",
   "name": "python",
   "nbconvert_exporter": "python",
   "pygments_lexer": "ipython3",
   "version": "3.6.5"
  }
 },
 "nbformat": 4,
 "nbformat_minor": 2
}
